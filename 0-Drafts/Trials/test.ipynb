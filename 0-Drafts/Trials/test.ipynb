{
 "cells": [
  {
   "cell_type": "code",
   "execution_count": 61,
   "metadata": {},
   "outputs": [],
   "source": [
    "import numpy as np\n",
    "import numba as nb\n",
    "import pygame as ga\n",
    "import random\n",
    "import math"
   ]
  },
  {
   "cell_type": "code",
   "execution_count": 43,
   "metadata": {},
   "outputs": [],
   "source": [
    "@nb.jit\n",
    "def get_pi(cnt):\n",
    "    acc = 0\n",
    "    for e in range(cnt):\n",
    "        x = random.random()\n",
    "        y =random.random()\n",
    "        if (x**2 + y**2) <1 :\n",
    "            acc += 1\n",
    "    return 4 * acc / cnt"
   ]
  },
  {
   "cell_type": "code",
   "execution_count": 44,
   "metadata": {},
   "outputs": [
    {
     "name": "stdout",
     "output_type": "stream",
     "text": [
      "4.81 ms ± 23 µs per loop (mean ± std. dev. of 7 runs, 100 loops each)\n"
     ]
    }
   ],
   "source": [
    "%timeit get_pi(1_000_000)"
   ]
  },
  {
   "cell_type": "code",
   "execution_count": 45,
   "metadata": {},
   "outputs": [],
   "source": [
    "@nb.vectorize\n",
    "def add(v1):\n",
    "    return np.add(v1,v1)"
   ]
  },
  {
   "cell_type": "code",
   "execution_count": 47,
   "metadata": {},
   "outputs": [
    {
     "name": "stdout",
     "output_type": "stream",
     "text": [
      "[[0.33585704 0.28510792]\n",
      " [0.07829096 0.03337614]\n",
      " [0.29737863 0.47061987]\n",
      " [0.17910321 0.35024938]\n",
      " [0.30427394 0.99998179]\n",
      " [0.9696861  0.90305101]\n",
      " [0.21701547 0.30134727]\n",
      " [0.86664979 0.97786125]\n",
      " [0.99198514 0.78663735]\n",
      " [0.3737318  0.28898373]]\n",
      "187 ns ± 13.9 ns per loop (mean ± std. dev. of 7 runs, 1,000,000 loops each)\n"
     ]
    }
   ],
   "source": [
    "arr = np.random.random((10,2))\n",
    "print(arr)\n",
    "%timeit -n 1_000_000 add(arr)"
   ]
  },
  {
   "cell_type": "code",
   "execution_count": 151,
   "metadata": {},
   "outputs": [],
   "source": [
    "from cmath import pi\n",
    "\n",
    "\n",
    "@nb.jit(parallel=True)\n",
    "def polar(v1):\n",
    "    mag=0\n",
    "    # mag = np.sqrt(np.sum(np.multiply(v1,v1)))\n",
    "    alpha = np.arctan2(v1[1],v1[0])/pi*180\n",
    "    return mag,alpha\n",
    "    "
   ]
  },
  {
   "cell_type": "code",
   "execution_count": 152,
   "metadata": {},
   "outputs": [],
   "source": [
    "def polar_ga(v1):\n",
    "    return v1.as_polar()\n"
   ]
  },
  {
   "cell_type": "code",
   "execution_count": 153,
   "metadata": {},
   "outputs": [
    {
     "name": "stdout",
     "output_type": "stream",
     "text": [
      "(87.92041856133307, 70.74070835623284)\n",
      "(0, 70.74070835623284)\n"
     ]
    },
    {
     "name": "stderr",
     "output_type": "stream",
     "text": [
      "/Users/rky/miniforge3/envs/game_env/lib/python3.10/site-packages/numba/core/typed_passes.py:329: NumbaPerformanceWarning: \n",
      "The keyword argument 'parallel=True' was specified but no transformation for parallel execution was possible.\n",
      "\n",
      "To find out why, try turning on parallel diagnostics, see https://numba.readthedocs.io/en/stable/user/parallel.html#diagnostics for help.\n",
      "\n",
      "File \"../../../../../../../var/folders/vw/2g_98rts7tzczmvh5hqt_qn00000gn/T/ipykernel_42451/3935413764.py\", line 4:\n",
      "<source missing, REPL/exec in use?>\n",
      "\n",
      "  warnings.warn(errors.NumbaPerformanceWarning(msg,\n"
     ]
    }
   ],
   "source": [
    "v = ga.math.Vector2(random.randint(-100,100),random.randint(-100,100))\n",
    "v0 = np.array([v.x,v.y])\n",
    "print(polar_ga(v))\n",
    "print(polar(v0))"
   ]
  },
  {
   "cell_type": "code",
   "execution_count": 154,
   "metadata": {},
   "outputs": [
    {
     "name": "stderr",
     "output_type": "stream",
     "text": [
      "/var/folders/vw/2g_98rts7tzczmvh5hqt_qn00000gn/T/ipykernel_42451/3935413764.py:4: NumbaWarning: \n",
      "Compilation is falling back to object mode WITH looplifting enabled because Function \"polar\" failed type inference due to: non-precise type pyobject\n",
      "During: typing of argument at /var/folders/vw/2g_98rts7tzczmvh5hqt_qn00000gn/T/ipykernel_42451/3935413764.py (6)\n",
      "\n",
      "File \"../../../../../../../var/folders/vw/2g_98rts7tzczmvh5hqt_qn00000gn/T/ipykernel_42451/3935413764.py\", line 6:\n",
      "<source missing, REPL/exec in use?>\n",
      "\n",
      "  @nb.jit(parallel=True)\n"
     ]
    },
    {
     "name": "stdout",
     "output_type": "stream",
     "text": [
      "135 ns ± 10.1 ns per loop (mean ± std. dev. of 7 runs, 10,000 loops each)\n"
     ]
    },
    {
     "name": "stderr",
     "output_type": "stream",
     "text": [
      "/Users/rky/miniforge3/envs/game_env/lib/python3.10/site-packages/numba/core/object_mode_passes.py:151: NumbaWarning: Function \"polar\" was compiled in object mode without forceobj=True.\n",
      "\n",
      "File \"../../../../../../../var/folders/vw/2g_98rts7tzczmvh5hqt_qn00000gn/T/ipykernel_42451/3935413764.py\", line 4:\n",
      "<source missing, REPL/exec in use?>\n",
      "\n",
      "  warnings.warn(errors.NumbaWarning(warn_msg,\n",
      "/Users/rky/miniforge3/envs/game_env/lib/python3.10/site-packages/numba/core/object_mode_passes.py:161: NumbaDeprecationWarning: \n",
      "Fall-back from the nopython compilation path to the object mode compilation path has been detected, this is deprecated behaviour.\n",
      "\n",
      "For more information visit https://numba.readthedocs.io/en/stable/reference/deprecation.html#deprecation-of-object-mode-fall-back-behaviour-when-using-jit\n",
      "\n",
      "File \"../../../../../../../var/folders/vw/2g_98rts7tzczmvh5hqt_qn00000gn/T/ipykernel_42451/3935413764.py\", line 4:\n",
      "<source missing, REPL/exec in use?>\n",
      "\n",
      "  warnings.warn(errors.NumbaDeprecationWarning(msg,\n"
     ]
    },
    {
     "name": "stdout",
     "output_type": "stream",
     "text": [
      "3.64 µs ± 1.36 µs per loop (mean ± std. dev. of 7 runs, 10,000 loops each)\n"
     ]
    }
   ],
   "source": [
    "\n",
    "%timeit -n 1_000_0 polar_ga(v)\n",
    "%timeit -n 1_000_0 polar(v)"
   ]
  },
  {
   "cell_type": "code",
   "execution_count": null,
   "metadata": {},
   "outputs": [],
   "source": []
  },
  {
   "cell_type": "code",
   "execution_count": 156,
   "metadata": {},
   "outputs": [
    {
     "name": "stdout",
     "output_type": "stream",
     "text": [
      "macOS-12.4-arm64-arm-64bit\n"
     ]
    }
   ],
   "source": [
    "import platform\n",
    "print(platform.platform())"
   ]
  },
  {
   "cell_type": "code",
   "execution_count": null,
   "metadata": {},
   "outputs": [],
   "source": []
  }
 ],
 "metadata": {
  "kernelspec": {
   "display_name": "Python 3.10.4 ('game_env')",
   "language": "python",
   "name": "python3"
  },
  "language_info": {
   "codemirror_mode": {
    "name": "ipython",
    "version": 3
   },
   "file_extension": ".py",
   "mimetype": "text/x-python",
   "name": "python",
   "nbconvert_exporter": "python",
   "pygments_lexer": "ipython3",
   "version": "3.10.4"
  },
  "orig_nbformat": 4,
  "vscode": {
   "interpreter": {
    "hash": "bc6c2409e22df4b6dc6c42eb7addfe820be784db604d44dacc946a75b91b0504"
   }
  }
 },
 "nbformat": 4,
 "nbformat_minor": 2
}
