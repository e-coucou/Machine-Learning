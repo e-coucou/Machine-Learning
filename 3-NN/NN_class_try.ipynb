{
 "cells": [
  {
   "cell_type": "code",
   "execution_count": 2,
   "metadata": {},
   "outputs": [],
   "source": [
    "import numpy as np\n",
    "import math\n",
    "import sys\n",
    "import tensorflow as tf\n",
    "import matplotlib.pyplot as plt"
   ]
  },
  {
   "cell_type": "code",
   "execution_count": 3,
   "metadata": {},
   "outputs": [],
   "source": [
    "EPSILON = 1e-12"
   ]
  },
  {
   "attachments": {},
   "cell_type": "markdown",
   "metadata": {},
   "source": [
    "## Class ACTIVATIONS"
   ]
  },
  {
   "cell_type": "code",
   "execution_count": 4,
   "metadata": {},
   "outputs": [],
   "source": [
    "class sigmoid():\n",
    "    @staticmethod\n",
    "    def activation(x):\n",
    "        y = 1 / (1 + np.exp(-x))\n",
    "        return y\n",
    "    @staticmethod\n",
    "    def prime(y):\n",
    "        f = sigmoid.activation(y)\n",
    "        return (f * (1 - f))"
   ]
  },
  {
   "cell_type": "code",
   "execution_count": 280,
   "metadata": {},
   "outputs": [],
   "source": [
    "class softmax:\n",
    "    @staticmethod\n",
    "    def activation(x):\n",
    "        # e_x = np.exp(x).reshape(-1,1)\n",
    "        e_x = np.exp(x - np.max(x,axis=-1).reshape(-1,1))\n",
    "        return e_x / e_x.sum(axis=-1).reshape(-1,1)\n",
    "    @staticmethod\n",
    "    def prime(y):\n",
    "        n=y.shape[-1]\n",
    "        SM = y.reshape((-1,n))\n",
    "        print(SM)\n",
    "        jac = np.diagflat(y) - np.dot(SM, SM.T)\n",
    "        return jac\n",
    "    @staticmethod\n",
    "    def primeA(y):\n",
    "        return(y * (1-y))"
   ]
  },
  {
   "cell_type": "code",
   "execution_count": 269,
   "metadata": {},
   "outputs": [
    {
     "name": "stdout",
     "output_type": "stream",
     "text": [
      "[[0.09003057 0.66524096 0.24472847]\n",
      " [0.66524096 0.09003057 0.24472847]]\n"
     ]
    },
    {
     "ename": "AttributeError",
     "evalue": "type object 'softmax' has no attribute 'primeP'",
     "output_type": "error",
     "traceback": [
      "\u001b[0;31m---------------------------------------------------------------------------\u001b[0m",
      "\u001b[0;31mAttributeError\u001b[0m                            Traceback (most recent call last)",
      "\u001b[1;32m/Users/rky/Documents/GitHub/Machine-Learning/3-NN/NN_class_try.ipynb Cellule 6\u001b[0m in \u001b[0;36m<cell line: 2>\u001b[0;34m()\u001b[0m\n\u001b[1;32m      <a href='vscode-notebook-cell:/Users/rky/Documents/GitHub/Machine-Learning/3-NN/NN_class_try.ipynb#X60sZmlsZQ%3D%3D?line=0'>1</a>\u001b[0m \u001b[39mprint\u001b[39m(a)\n\u001b[0;32m----> <a href='vscode-notebook-cell:/Users/rky/Documents/GitHub/Machine-Learning/3-NN/NN_class_try.ipynb#X60sZmlsZQ%3D%3D?line=1'>2</a>\u001b[0m \u001b[39mprint\u001b[39m(softmax\u001b[39m.\u001b[39;49mprimeP(a))\n",
      "\u001b[0;31mAttributeError\u001b[0m: type object 'softmax' has no attribute 'primeP'"
     ]
    }
   ],
   "source": [
    "print(a)\n",
    "print(softmax.primeP(a))"
   ]
  },
  {
   "cell_type": "code",
   "execution_count": 231,
   "metadata": {},
   "outputs": [],
   "source": [
    "def Softmax(x):\n",
    "    '''\n",
    "    Performs the softmax activation on a given set of inputs\n",
    "    Input: x (N,k) ndarray (N: no. of samples, k: no. of nodes)\n",
    "    Returns: \n",
    "    Note: Works for 2D arrays only(rows for samples, columns for nodes/outputs)\n",
    "    '''\n",
    "    max_x = np.amax(x, 1).reshape(x.shape[0],1) # Get the row-wise maximum\n",
    "    e_x = np.exp(x - max_x ) # For stability\n",
    "    return e_x / e_x.sum(axis=1, keepdims=True) "
   ]
  },
  {
   "cell_type": "code",
   "execution_count": 232,
   "metadata": {},
   "outputs": [],
   "source": [
    "def Softmax_grad(x): # Best implementation (VERY FAST)\n",
    "    '''Returns the jacobian of the Softmax function for the given set of inputs.\n",
    "    Inputs:\n",
    "    x: should be a 2d array where the rows correspond to the samples\n",
    "        and the columns correspond to the nodes.\n",
    "    Returns: jacobian\n",
    "    '''\n",
    "    s = Softmax(x)\n",
    "    a = np.eye(s.shape[-1])\n",
    "    temp1 = np.zeros((s.shape[0], s.shape[1], s.shape[1]),dtype=np.float32)\n",
    "    temp2 = np.zeros((s.shape[0], s.shape[1], s.shape[1]),dtype=np.float32)\n",
    "    temp1 = np.einsum('ij,jk->ijk',s,a)\n",
    "    temp2 = np.einsum('ij,ik->ijk',s,s)\n",
    "    return temp1-temp2"
   ]
  },
  {
   "attachments": {},
   "cell_type": "markdown",
   "metadata": {},
   "source": [
    "## Class Loss Functions"
   ]
  },
  {
   "cell_type": "code",
   "execution_count": 233,
   "metadata": {},
   "outputs": [],
   "source": [
    "class BinaryCrossEntropy:\n",
    "    def __init__(self, p, y,_m,**kwargs):\n",
    "        self.p = p\n",
    "        self.y = y\n",
    "        self.m = _m\n",
    "        self.sw = kwargs.get('sample_weight',1)\n",
    "\n",
    "    def normalized(self,a,y):\n",
    "        self.p = a\n",
    "        self.y = y\n",
    "        self.c = self.y.shape[-1] #nb de class\n",
    "    def metrics(self):\n",
    "        r = (1 / self.m) * np.sum(self.forward()) /self.c\n",
    "        return r\n",
    "    def forward(self):\n",
    "    # (-y.log(p) - (1-y).log(1-p))\n",
    "        f = ((-self.y * np.log(self.p + EPSILON)) - ((1 - self.y) * (np.log(1 - self.p + EPSILON)))) * self.sw\n",
    "        return f\n",
    "    def backward(self):\n",
    "    # -y/p + (1-y)/(1-p)\n",
    "        # n = self.p.shape[0]\n",
    "        return (-self.y/(self.p + EPSILON) + (1 - self.y)/(1 - self.p + EPSILON)) * self.sw"
   ]
  },
  {
   "cell_type": "code",
   "execution_count": 234,
   "metadata": {},
   "outputs": [],
   "source": [
    "class CategoricalCrossEntropy():\n",
    "    def __init__(self, a, y_true , _m, **kwargs):\n",
    "        self.p = a / (np.sum(a,axis=-1,keepdims=True)+EPSILON)\n",
    "        self.y = y_true\n",
    "        self.m = _m\n",
    "        self.sw = kwargs.get('sample_weight',1)\n",
    "    def normalized(self,a,y_true):\n",
    "        self.p = a / (np.sum(a,axis=-1,keepdims=True)+EPSILON)\n",
    "        self.y = y_true\n",
    "        # self.c = self.y.shape[-1] #nb de class\n",
    "    def metrics(self): # -y.log(p)\n",
    "        return (1 / self.m) * np.sum(self.forward())\n",
    "    def forward(self): # -y.log(p)\n",
    "        return (-self.y * np.log(self.p+EPSILON)) * self.sw\n",
    "    def backward(self): # -y/p\n",
    "        return (-self.y/(self.p+EPSILON)) * self.sw"
   ]
  },
  {
   "cell_type": "code",
   "execution_count": 235,
   "metadata": {},
   "outputs": [],
   "source": [
    "class MSE():\n",
    "    def __init__(self, p, y, _m, **kwargs):\n",
    "        self.p = p\n",
    "        self.y = y\n",
    "        self.m = _m\n",
    "        self.sw = kwargs.get('sample_weight',1)\n",
    "    def normalized(self,a,y):\n",
    "        self.p = a\n",
    "        self.y = y\n",
    "        self.c = self.y.shape[-1] #nb de class\n",
    "    def forward(self):\n",
    "        return (np.square(self.p - self.y)) / self.c * self.sw\n",
    "    def backward(self):\n",
    "        return (2*(self.p - self.y)) * self.sw\n",
    "    def metrics(self):\n",
    "        return (1 / self.m) * (np.sum(self.forward()))\n",
    "        # return 1/self.m *np.sum(np.square(self.p - self.y))"
   ]
  },
  {
   "attachments": {},
   "cell_type": "markdown",
   "metadata": {},
   "source": [
    "## JEUX DE TEST \n",
    "* y : valeur TRUE\n",
    "* z : simulation valeur sortie couche z = wX + b\n",
    "* a : résultat couche activation SOFTMAX"
   ]
  },
  {
   "cell_type": "code",
   "execution_count": 236,
   "metadata": {},
   "outputs": [
    {
     "name": "stdout",
     "output_type": "stream",
     "text": [
      "[[ 0.32970771  4.52768052 -0.95453353  5.16596603  1.40572632 -0.1239037\n",
      "  -2.95130235  0.90576774 -0.41480254 -0.22734566]] [[4.99355964e-03 3.32327797e-01 1.38251979e-03 6.29173675e-01\n",
      "  1.46460052e-02 3.17255608e-03 1.87709251e-04 8.88361913e-03\n",
      "  2.37177533e-03 2.86078379e-03]] [1.]\n"
     ]
    }
   ],
   "source": [
    "np.random.seed(120)\n",
    "y = np.array([[0,0,0,0,1,0,0,0,0,0]])\n",
    "z = np.random.randn(1,10)/np.sqrt(2/10)\n",
    "a = softmax.activation(z)\n",
    "# a = Softmax(z)\n",
    "# print(a)\n",
    "print(z,a,a.sum(axis=-1))"
   ]
  },
  {
   "cell_type": "code",
   "execution_count": 237,
   "metadata": {},
   "outputs": [
    {
     "name": "stdout",
     "output_type": "stream",
     "text": [
      "[[4.99355964e-03 3.32327797e-01 1.38251979e-03 6.29173675e-01\n",
      "  1.46460052e-02 3.17255608e-03 1.87709251e-04 8.88361913e-03\n",
      "  2.37177533e-03 2.86078379e-03]] [1.]\n"
     ]
    }
   ],
   "source": [
    "a2 = Softmax(z)\n",
    "print(a2,a2.sum(axis=-1))"
   ]
  },
  {
   "cell_type": "code",
   "execution_count": 238,
   "metadata": {},
   "outputs": [
    {
     "name": "stdout",
     "output_type": "stream",
     "text": [
      "4.223587661845474\n",
      "(10, 1)\n",
      "[[  0.           0.           0.           0.         -68.27800379\n",
      "    0.           0.           0.           0.           0.        ]]\n",
      "[[ 0.00000000e+00 -0.00000000e+00 -0.00000000e+00 -0.00000000e+00\n",
      "   4.99355964e-03 -0.00000000e+00 -0.00000000e+00 -0.00000000e+00\n",
      "  -0.00000000e+00 -0.00000000e+00]\n",
      " [-0.00000000e+00  0.00000000e+00 -0.00000000e+00 -0.00000000e+00\n",
      "   3.32327797e-01 -0.00000000e+00 -0.00000000e+00 -0.00000000e+00\n",
      "  -0.00000000e+00 -0.00000000e+00]\n",
      " [-0.00000000e+00 -0.00000000e+00  0.00000000e+00 -0.00000000e+00\n",
      "   1.38251979e-03 -0.00000000e+00 -0.00000000e+00 -0.00000000e+00\n",
      "  -0.00000000e+00 -0.00000000e+00]\n",
      " [-0.00000000e+00 -0.00000000e+00 -0.00000000e+00  0.00000000e+00\n",
      "   6.29173675e-01 -0.00000000e+00 -0.00000000e+00 -0.00000000e+00\n",
      "  -0.00000000e+00 -0.00000000e+00]\n",
      " [-0.00000000e+00 -0.00000000e+00 -0.00000000e+00 -0.00000000e+00\n",
      "  -9.85353995e-01 -0.00000000e+00 -0.00000000e+00 -0.00000000e+00\n",
      "  -0.00000000e+00 -0.00000000e+00]\n",
      " [-0.00000000e+00 -0.00000000e+00 -0.00000000e+00 -0.00000000e+00\n",
      "   3.17255608e-03  0.00000000e+00 -0.00000000e+00 -0.00000000e+00\n",
      "  -0.00000000e+00 -0.00000000e+00]\n",
      " [-0.00000000e+00 -0.00000000e+00 -0.00000000e+00 -0.00000000e+00\n",
      "   1.87709251e-04 -0.00000000e+00  0.00000000e+00 -0.00000000e+00\n",
      "  -0.00000000e+00 -0.00000000e+00]\n",
      " [-0.00000000e+00 -0.00000000e+00 -0.00000000e+00 -0.00000000e+00\n",
      "   8.88361913e-03 -0.00000000e+00 -0.00000000e+00  0.00000000e+00\n",
      "  -0.00000000e+00 -0.00000000e+00]\n",
      " [-0.00000000e+00 -0.00000000e+00 -0.00000000e+00 -0.00000000e+00\n",
      "   2.37177533e-03 -0.00000000e+00 -0.00000000e+00 -0.00000000e+00\n",
      "   0.00000000e+00 -0.00000000e+00]\n",
      " [-0.00000000e+00 -0.00000000e+00 -0.00000000e+00 -0.00000000e+00\n",
      "   2.86078379e-03 -0.00000000e+00 -0.00000000e+00 -0.00000000e+00\n",
      "  -0.00000000e+00  0.00000000e+00]] (1, 10)\n",
      "[[ 4.96862400e-03 -1.65949867e-03 -6.90369504e-06 -3.14181627e-03\n",
      "  -7.31357005e-05 -1.58423480e-05 -9.37337341e-07 -4.43608819e-05\n",
      "  -1.18436016e-05 -1.42854945e-05]\n",
      " [-1.65949867e-03  2.21886032e-01 -4.59449757e-04 -2.09091901e-01\n",
      "  -4.86727465e-03 -1.05432857e-03 -6.23810019e-05 -2.95227357e-03\n",
      "  -7.88206871e-04 -9.50717976e-04]\n",
      " [-6.90369504e-06 -4.59449757e-04  1.38060843e-03 -8.69845059e-04\n",
      "  -2.02483921e-05 -4.38612158e-06 -2.59511755e-07 -1.22817793e-05\n",
      "  -3.27902635e-06 -3.95509022e-06]\n",
      " [-3.14181627e-03 -2.09091901e-01 -8.69845059e-04  2.33314162e-01\n",
      "  -9.21488093e-03 -1.99608877e-03 -1.18101719e-04 -5.58933929e-03\n",
      "  -1.49225860e-03 -1.79992985e-03]\n",
      " [-7.31357005e-05 -4.86727465e-03 -2.02483921e-05 -9.21488093e-03\n",
      "   1.44314998e-02 -4.64652729e-05 -2.74919067e-06 -1.30109532e-04\n",
      "  -3.47370339e-05 -4.18990544e-05]\n",
      " [-1.58423480e-05 -1.05432857e-03 -4.38612158e-06 -1.99608877e-03\n",
      "  -4.64652729e-05  3.16249097e-03 -5.95518126e-07 -2.81837799e-05\n",
      "  -7.52459026e-06 -9.07599702e-06]\n",
      " [-9.37337341e-07 -6.23810019e-05 -2.59511755e-07 -1.18101719e-04\n",
      "  -2.74919067e-06 -5.95518126e-07  1.87674016e-04 -1.66753749e-06\n",
      "  -4.45204172e-07 -5.36995584e-07]\n",
      " [-4.43608819e-05 -2.95227357e-03 -1.22817793e-05 -5.58933929e-03\n",
      "  -1.30109532e-04 -2.81837799e-05 -1.66753749e-06  8.80470044e-03\n",
      "  -2.10699487e-05 -2.54141136e-05]\n",
      " [-1.18436016e-05 -7.88206871e-04 -3.27902635e-06 -1.49225860e-03\n",
      "  -3.47370339e-05 -7.52459026e-06 -4.45204172e-07 -2.10699487e-05\n",
      "   2.36615001e-03 -6.78513643e-06]\n",
      " [-1.42854945e-05 -9.50717976e-04 -3.95509022e-06 -1.79992985e-03\n",
      "  -4.18990544e-05 -9.07599702e-06 -5.36995584e-07 -2.54141136e-05\n",
      "  -6.78513643e-06  2.85259971e-03]]\n",
      "[[ 4.99355964e-03  3.32327797e-01  1.38251979e-03  6.29173675e-01\n",
      "  -9.85353995e-01  3.17255608e-03  1.87709251e-04  8.88361913e-03\n",
      "   2.37177533e-03  2.86078379e-03]]\n"
     ]
    }
   ],
   "source": [
    "L = CategoricalCrossEntropy(a,y,1)\n",
    "L.normalized(a,y)\n",
    "l = L.metrics()\n",
    "print(l)\n",
    "dL_da = L.backward()\n",
    "da_dz = softmax.prime(a)\n",
    "diff = dL_da * da_dz\n",
    "print(dL_da)\n",
    "print(diff,y.shape)\n",
    "print(da_dz)\n",
    "print(a-y)"
   ]
  },
  {
   "cell_type": "code",
   "execution_count": 240,
   "metadata": {},
   "outputs": [
    {
     "name": "stdout",
     "output_type": "stream",
     "text": [
      "[[ 0.0809707  -0.01095602 -0.0078691  -0.01474251 -0.00797417 -0.0078832\n",
      "  -0.00785971 -0.00792835 -0.00787689 -0.00788074]\n",
      " [-0.01095602  0.10808494 -0.01091653 -0.02045177 -0.01106229 -0.01093609\n",
      "  -0.0109035  -0.01099873 -0.01092734 -0.01093268]\n",
      " [-0.0078691  -0.01091653  0.08070721 -0.01468937 -0.00794543 -0.00785479\n",
      "  -0.00783138 -0.00789977 -0.0078485  -0.00785234]\n",
      " [-0.01474251 -0.02045177 -0.01468937  0.13837166 -0.0148855  -0.01471569\n",
      "  -0.01467183 -0.01479997 -0.01470391 -0.0147111 ]\n",
      " [-0.00797417 -0.01106229 -0.00794543 -0.0148855   0.08167871 -0.00795966\n",
      "  -0.00793594 -0.00800525 -0.00795329 -0.00795718]\n",
      " [-0.0078832  -0.01093609 -0.00785479 -0.01471569 -0.00795966  0.08083773\n",
      "  -0.00784541 -0.00791393 -0.00786256 -0.00786641]\n",
      " [-0.00785971 -0.0109035  -0.00783138 -0.01467183 -0.00793594 -0.00784541\n",
      "   0.08062019 -0.00789034 -0.00783913 -0.00784296]\n",
      " [-0.00792835 -0.01099873 -0.00789977 -0.01479997 -0.00800525 -0.00791393\n",
      "  -0.00789034  0.0812554  -0.00790759 -0.00791146]\n",
      " [-0.00787689 -0.01092734 -0.0078485  -0.01470391 -0.00795329 -0.00786256\n",
      "  -0.00783913 -0.00790759  0.08077932 -0.00786011]\n",
      " [-0.00788074 -0.01093268 -0.00785234 -0.0147111  -0.00795718 -0.00786641\n",
      "  -0.00784296 -0.00791146 -0.00786011  0.08081499]] [[  0.           0.           0.           0.         -68.27800379\n",
      "    0.           0.           0.           0.           0.        ]]\n",
      "[[ 0.54446041]\n",
      " [ 0.75531092]\n",
      " [ 0.54249789]\n",
      " [ 1.01635234]\n",
      " [-5.5768593 ]\n",
      " [ 0.54346985]\n",
      " [ 0.5418501 ]\n",
      " [ 0.54658252]\n",
      " [ 0.54303483]\n",
      " [ 0.54330044]]\n"
     ]
    }
   ],
   "source": [
    "da_dz_2 = Softmax_grad(a).reshape(10,10)\n",
    "print(da_dz_2,dL_da)\n",
    "dz = (da_dz_2 @ dL_da.T)\n",
    "# print(dz.sum(axis=0))\n",
    "# dz = dz / np.sum(dz)\n",
    "print(dz)"
   ]
  },
  {
   "cell_type": "code",
   "execution_count": 241,
   "metadata": {},
   "outputs": [
    {
     "name": "stdout",
     "output_type": "stream",
     "text": [
      "ep cce: 4.223587661845474\n",
      "tf cce: 4.2235876619127515\n"
     ]
    }
   ],
   "source": [
    "# Vérification CCE\n",
    "f_cce = CategoricalCrossEntropy(a,y,1)\n",
    "f_cce.normalized(a,y)\n",
    "e1 = f_cce.metrics()\n",
    "t_tf = tf.nn.softmax(z)\n",
    "t_cce = tf.keras.losses.CategoricalCrossentropy(from_logits=False)\n",
    "t1 = t_cce(y,t_tf).numpy()\n",
    "print('ep cce:', e1)\n",
    "print('tf cce:',t1)"
   ]
  },
  {
   "cell_type": "code",
   "execution_count": 242,
   "metadata": {},
   "outputs": [
    {
     "name": "stdout",
     "output_type": "stream",
     "text": [
      "tf.Tensor(\n",
      "[[4.99355964e-03 3.32327797e-01 1.38251979e-03 6.29173675e-01\n",
      "  1.46460052e-02 3.17255608e-03 1.87709251e-04 8.88361913e-03\n",
      "  2.37177533e-03 2.86078379e-03]], shape=(1, 10), dtype=float64)\n"
     ]
    }
   ],
   "source": [
    "t_tf = tf.nn.softmax(z)\n",
    "print(t_tf)"
   ]
  },
  {
   "cell_type": "code",
   "execution_count": 243,
   "metadata": {},
   "outputs": [
    {
     "name": "stdout",
     "output_type": "stream",
     "text": [
      "ep bce: 4.223587661845474\n",
      "tf bce: 0.5643476765841015\n"
     ]
    }
   ],
   "source": [
    "t_bce = tf.keras.losses.BinaryCrossentropy(from_logits=False)\n",
    "t = t_bce(y,t_tf).numpy()\n",
    "print('ep bce:', l)\n",
    "print('tf bce:', t)"
   ]
  },
  {
   "attachments": {},
   "cell_type": "markdown",
   "metadata": {},
   "source": [
    "## Vérification metrics Binary Cross Entropy\n",
    "* EPSILON = 1e-12\n",
    "* utilisation sample_weight"
   ]
  },
  {
   "cell_type": "code",
   "execution_count": 244,
   "metadata": {},
   "outputs": [
    {
     "name": "stdout",
     "output_type": "stream",
     "text": [
      "0.24363858891514345\n",
      "ep: 0.24363858891514345\n",
      "tf: 0.24363858891670923\n"
     ]
    }
   ],
   "source": [
    "y_true = np.array([[0, 1], [0, 0]])\n",
    "y_pred = np.array([[-18.6, 0.51], [2.94, -12.8]])\n",
    "sw = np.array([[0.8],[0.2]])\n",
    "ypS = sigmoid.activation(y_pred)\n",
    "# yp = np.clip(y_pred,1e-8,1e8)\n",
    "bce = BinaryCrossEntropy(ypS,y_true,2,sample_weight = sw)\n",
    "bce.normalized(ypS,y_true)\n",
    "bce_f = (bce.forward())\n",
    "print(np.mean(bce_f))\n",
    "l_bce = bce.metrics()\n",
    "print('ep:',l_bce)\n",
    "t_bce = tf.keras.losses.BinaryCrossentropy(from_logits=True)\n",
    "print('tf:',t_bce(y_true,y_pred,sample_weight=sw).numpy())"
   ]
  },
  {
   "attachments": {},
   "cell_type": "markdown",
   "metadata": {},
   "source": [
    "## Vérification metrics Categorical Cross Entropy"
   ]
  },
  {
   "cell_type": "code",
   "execution_count": 245,
   "metadata": {},
   "outputs": [
    {
     "name": "stdout",
     "output_type": "stream",
     "text": [
      "tf: 0.09524559936875954\n",
      "ep: 0.09524559936875655\n"
     ]
    }
   ],
   "source": [
    "y_true = np.array([[0, 1], [0, 0]])\n",
    "y_pred = np.array([[-1.6, 0.51], [-1.94, -1.8]])\n",
    "sw = np.array([[0.8],[0.2]])\n",
    "ypS = sigmoid.activation(y_pred)\n",
    "t_ypS = tf.nn.sigmoid(y_pred)\n",
    "# print(t_ypS,ypS)\n",
    "t2_cce = tf.keras.losses.CategoricalCrossentropy(from_logits=False)\n",
    "t2 = t2_cce(y_true,t_ypS,sample_weight=sw).numpy()\n",
    "print('tf:',t2)\n",
    "e2_cce = CategoricalCrossEntropy(t_ypS,y_true,2,sample_weight=sw)\n",
    "e2_cce.normalized(t_ypS,y_true)\n",
    "e2 = e2_cce.metrics()\n",
    "print('ep:',e2)"
   ]
  },
  {
   "attachments": {},
   "cell_type": "markdown",
   "metadata": {},
   "source": [
    "## Vérification MSE"
   ]
  },
  {
   "cell_type": "code",
   "execution_count": 246,
   "metadata": {},
   "outputs": [
    {
     "name": "stdout",
     "output_type": "stream",
     "text": [
      "tf: 0.051224278248531804\n",
      "ep: 0.051224278248531804\n"
     ]
    }
   ],
   "source": [
    "t_mse = tf.keras.losses.MeanSquaredError()\n",
    "tf_mse = t_mse(y_true,t_ypS).numpy()\n",
    "print('tf:',tf_mse)\n",
    "f_mse = MSE(t_ypS,y_true,2)\n",
    "f_mse.normalized(t_ypS,y_true)\n",
    "ep_mse = f_mse.metrics()\n",
    "print('ep:',ep_mse)"
   ]
  },
  {
   "cell_type": "code",
   "execution_count": 247,
   "metadata": {},
   "outputs": [
    {
     "name": "stdout",
     "output_type": "stream",
     "text": [
      "[[0.6073398  0.3926602 ]\n",
      " [0.63527268 0.36472732]\n",
      " [0.29981797 0.70018203]\n",
      " [0.5197816  0.4802184 ]\n",
      " [0.9374528  0.0625472 ]\n",
      " [0.14825149 0.85174851]\n",
      " [0.67990632 0.32009368]\n",
      " [0.33172482 0.66827518]\n",
      " [0.216663   0.783337  ]\n",
      " [0.75193927 0.24806073]]\n"
     ]
    }
   ],
   "source": [
    "# x = (np.arange(0,10).reshape((10,1)) - 5 ) /10\n",
    "x = np.random.randn(10,2)\n",
    "# print(x)\n",
    "s = softmax()\n",
    "s_x = s.activation(x)\n",
    "print(s_x)"
   ]
  },
  {
   "cell_type": "code",
   "execution_count": 248,
   "metadata": {},
   "outputs": [
    {
     "name": "stdout",
     "output_type": "stream",
     "text": [
      "[[0.60733986 0.3926602 ]\n",
      " [0.6352727  0.3647273 ]\n",
      " [0.29981798 0.7001821 ]\n",
      " [0.51978165 0.48021844]\n",
      " [0.9374528  0.06254719]\n",
      " [0.14825149 0.8517485 ]\n",
      " [0.6799063  0.32009363]\n",
      " [0.33172482 0.66827524]\n",
      " [0.21666296 0.783337  ]\n",
      " [0.75193936 0.24806073]]\n"
     ]
    }
   ],
   "source": [
    "# Tensorflow\n",
    "X_tf = tf.convert_to_tensor(x, dtype=tf.float32)\n",
    "# print(X_tf)\n",
    "softmax_tf_value = tf.keras.activations.softmax(X_tf)\n",
    "print(softmax_tf_value.numpy())"
   ]
  },
  {
   "cell_type": "code",
   "execution_count": 249,
   "metadata": {},
   "outputs": [
    {
     "name": "stdout",
     "output_type": "stream",
     "text": [
      "59.4 µs ± 8.39 µs per loop (mean ± std. dev. of 7 runs, 100 loops each)\n",
      "6.86 µs ± 286 ns per loop (mean ± std. dev. of 7 runs, 100 loops each)\n",
      "6.44 µs ± 57.5 ns per loop (mean ± std. dev. of 7 runs, 100 loops each)\n",
      "478 µs ± 47.7 µs per loop (mean ± std. dev. of 7 runs, 100 loops each)\n"
     ]
    }
   ],
   "source": [
    "# Tensorflow\n",
    "time = %timeit -n 100 -o tf.keras.activations.softmax(X_tf)\n",
    "# ep\n",
    "time = %timeit -n 100 -o softmax.activation(x)\n",
    "# autre\n",
    "time = %timeit -n 100 -o Softmax(x)\n",
    "# tf\n",
    "time = %timeit -n 100 -o tf.nn.softmax(x)"
   ]
  },
  {
   "cell_type": "code",
   "execution_count": 250,
   "metadata": {},
   "outputs": [],
   "source": [
    "def tf_softmax_grad(z):\n",
    "#   z = tf.constant(z, dtype=tf.float32)\n",
    "    with tf.GradientTape() as g:\n",
    "        g.watch(z)\n",
    "        a = tf.nn.softmax(z) \n",
    "    jacob = g.batch_jacobian(a, z)\n",
    "    return jacob.numpy()"
   ]
  },
  {
   "cell_type": "code",
   "execution_count": 305,
   "metadata": {},
   "outputs": [],
   "source": [
    "class softmax_tf_ep:\n",
    "    @staticmethod\n",
    "    def activation(x):\n",
    "        # e_x = np.exp(x).reshape(-1,1)\n",
    "        e_x = tf.math.exp(x - tf.reshape(tf.reduce_max(x,axis=-1),[-1,1]))\n",
    "        return e_x / tf.reshape(tf.reduce_sum(e_x,axis=-1),[-1,1])\n",
    "    @staticmethod\n",
    "    def prime(y):\n",
    "        n=y.shape[-1]\n",
    "        SM = y.reshape((-1,n))\n",
    "        print(SM)\n",
    "        jac = np.diagflat(y) - np.dot(SM, SM.T)\n",
    "        return jac\n",
    "    @staticmethod\n",
    "    def primeA(y):\n",
    "        return(y * (1-y))"
   ]
  },
  {
   "cell_type": "code",
   "execution_count": 306,
   "metadata": {},
   "outputs": [],
   "source": [
    "def ep_softmax_grad(z):\n",
    "    # z = tf.convert_to_tensor(x, dtype=tf.float32)\n",
    "    z = tf.constant(z, dtype=tf.float32)\n",
    "    with tf.GradientTape() as g:\n",
    "        g.watch(z)\n",
    "        a = softmax_tf_ep.activation(z)\n",
    "        # b = tf.convert_to_tensor(a, dtype=tf.float32)\n",
    "        a = tf.constant(a, dtype=tf.float32)\n",
    "    jacob = g.batch_jacobian(a, z)\n",
    "    return jacob.numpy()"
   ]
  },
  {
   "cell_type": "code",
   "execution_count": 307,
   "metadata": {},
   "outputs": [
    {
     "name": "stderr",
     "output_type": "stream",
     "text": [
      "2023-01-05 23:34:40.001175: I tensorflow/core/grappler/optimizers/custom_graph_optimizer_registry.cc:114] Plugin optimizer for device_type GPU is enabled.\n"
     ]
    },
    {
     "name": "stdout",
     "output_type": "stream",
     "text": [
      "[[[ 0.2384782  -0.2384782 ]\n",
      "  [-0.23847817  0.23847817]]\n",
      "\n",
      " [[ 0.23170127 -0.23170127]\n",
      "  [-0.23170128  0.23170128]]\n",
      "\n",
      " [[ 0.20992716 -0.20992716]\n",
      "  [-0.20992717  0.20992717]]\n",
      "\n",
      " [[ 0.24960873 -0.24960873]\n",
      "  [-0.24960867  0.24960867]]\n",
      "\n",
      " [[ 0.05863504 -0.05863504]\n",
      "  [-0.05863504  0.05863504]]\n",
      "\n",
      " [[ 0.12627299 -0.12627299]\n",
      "  [-0.12627299  0.12627299]]\n",
      "\n",
      " [[ 0.21763368 -0.21763368]\n",
      "  [-0.21763371  0.21763371]]\n",
      "\n",
      " [[ 0.22168347 -0.22168347]\n",
      "  [-0.22168349  0.22168349]]\n",
      "\n",
      " [[ 0.16972013 -0.16972013]\n",
      "  [-0.16972011  0.16972011]]\n",
      "\n",
      " [[ 0.18652664 -0.18652664]\n",
      "  [-0.18652661  0.18652661]]]\n"
     ]
    }
   ],
   "source": [
    "print(ep_softmax_grad(x))"
   ]
  },
  {
   "cell_type": "code",
   "execution_count": 253,
   "metadata": {},
   "outputs": [
    {
     "name": "stdout",
     "output_type": "stream",
     "text": [
      "(10, 2, 2)\n",
      "[[ 0.24714152 -0.24714152]\n",
      " [-0.24714152  0.24714152]]\n"
     ]
    }
   ],
   "source": [
    "g =Softmax_grad(s_x)\n",
    "print(g.shape)\n",
    "print(g[0])"
   ]
  },
  {
   "cell_type": "code",
   "execution_count": 255,
   "metadata": {},
   "outputs": [
    {
     "name": "stdout",
     "output_type": "stream",
     "text": [
      "[[ 0.24714153 -0.2471415 ]\n",
      " [-0.2471415   0.24714153]]\n"
     ]
    },
    {
     "name": "stderr",
     "output_type": "stream",
     "text": [
      "2023-01-04 23:26:45.397411: I tensorflow/core/grappler/optimizers/custom_graph_optimizer_registry.cc:114] Plugin optimizer for device_type GPU is enabled.\n"
     ]
    }
   ],
   "source": [
    "print(tf_softmax_grad(softmax_tf_value)[0])"
   ]
  },
  {
   "cell_type": "code",
   "execution_count": 257,
   "metadata": {},
   "outputs": [
    {
     "name": "stdout",
     "output_type": "stream",
     "text": [
      "(2, 1)\n",
      "[[ 0.23847817 -0.23847817]\n",
      " [-0.23847817  0.23847817]]\n"
     ]
    }
   ],
   "source": [
    "print(softmax.prime(s_x[0]))"
   ]
  },
  {
   "cell_type": "code",
   "execution_count": 413,
   "metadata": {},
   "outputs": [
    {
     "data": {
      "image/png": "[encoded data removed]",
      "text/plain": [
       "<Figure size 600x400 with 1 Axes>"
      ]
     },
     "metadata": {},
     "output_type": "display_data"
    }
   ],
   "source": [
    "x = np.arange(-5,5,0.1)\n",
    "np.random.seed(120)\n",
    "# x = np.random.randn(100,3)\n",
    "# f_x = 2 *x ** 2 + 4*x + 5\n",
    "# f_x = softmax.activation(x)\n",
    "f_x = sigmoid.activation(x)\n",
    "# fp_x = 4*x + 4\n",
    "fp_x = sigmoid.prime(x)\n",
    "fig = plt.figure(figsize=(6,4))\n",
    "plt.plot(x,f_x,c='y')\n",
    "plt.plot(x,fp_x,c='b')\n",
    "# plt.scatter([1],[11],[33],c='r')\n",
    "# plt.plot([0,1,2],[3,11,19],c='b')\n",
    "plt.show()"
   ]
  },
  {
   "attachments": {},
   "cell_type": "markdown",
   "metadata": {},
   "source": [
    "# Test Softmax et Categorical Loss Entropy"
   ]
  },
  {
   "cell_type": "code",
   "execution_count": 281,
   "metadata": {},
   "outputs": [],
   "source": [
    "y = np.array([[0,1,0],[1,0,0]])\n",
    "z = np.array([[1,3,2],[3,1,2]])\n",
    "a = Softmax(z)\n",
    "L_fct = CategoricalCrossEntropy(a,y,1)\n",
    "L_fct.normalized(a,y)\n",
    "loss = L_fct.metrics()"
   ]
  },
  {
   "cell_type": "code",
   "execution_count": 282,
   "metadata": {},
   "outputs": [
    {
     "name": "stdout",
     "output_type": "stream",
     "text": [
      "[[0.09003057 0.66524096 0.24472847]\n",
      " [0.66524096 0.09003057 0.24472847]]\n",
      "0.8152119288877543\n",
      "target:  [[ 0.09003057 -0.33475904  0.24472847]\n",
      " [-0.33475904  0.09003057  0.24472847]]\n"
     ]
    }
   ],
   "source": [
    "print(a)\n",
    "print(loss)\n",
    "print('target: ', a-y)"
   ]
  },
  {
   "cell_type": "code",
   "execution_count": 283,
   "metadata": {},
   "outputs": [
    {
     "name": "stdout",
     "output_type": "stream",
     "text": [
      "[[ 0.         -1.50321472  0.        ]\n",
      " [-1.50321472  0.          0.        ]]\n",
      "[[0.09003057 0.66524096 0.24472847]\n",
      " [0.66524096 0.09003057 0.24472847]]\n"
     ]
    },
    {
     "ename": "ValueError",
     "evalue": "operands could not be broadcast together with shapes (6,6) (2,2) ",
     "output_type": "error",
     "traceback": [
      "\u001b[0;31m---------------------------------------------------------------------------\u001b[0m",
      "\u001b[0;31mValueError\u001b[0m                                Traceback (most recent call last)",
      "\u001b[1;32m/Users/rky/Documents/GitHub/Machine-Learning/3-NN/NN_class_try.ipynb Cellule 40\u001b[0m in \u001b[0;36m<cell line: 3>\u001b[0;34m()\u001b[0m\n\u001b[1;32m      <a href='vscode-notebook-cell:/Users/rky/Documents/GitHub/Machine-Learning/3-NN/NN_class_try.ipynb#X63sZmlsZQ%3D%3D?line=0'>1</a>\u001b[0m dL \u001b[39m=\u001b[39m L_fct\u001b[39m.\u001b[39mbackward()\n\u001b[1;32m      <a href='vscode-notebook-cell:/Users/rky/Documents/GitHub/Machine-Learning/3-NN/NN_class_try.ipynb#X63sZmlsZQ%3D%3D?line=1'>2</a>\u001b[0m \u001b[39mprint\u001b[39m(dL)\n\u001b[0;32m----> <a href='vscode-notebook-cell:/Users/rky/Documents/GitHub/Machine-Learning/3-NN/NN_class_try.ipynb#X63sZmlsZQ%3D%3D?line=2'>3</a>\u001b[0m g \u001b[39m=\u001b[39msoftmax\u001b[39m.\u001b[39;49mprime(a)\n\u001b[1;32m      <a href='vscode-notebook-cell:/Users/rky/Documents/GitHub/Machine-Learning/3-NN/NN_class_try.ipynb#X63sZmlsZQ%3D%3D?line=3'>4</a>\u001b[0m \u001b[39mprint\u001b[39m(a\u001b[39m.\u001b[39mshape)\n\u001b[1;32m      <a href='vscode-notebook-cell:/Users/rky/Documents/GitHub/Machine-Learning/3-NN/NN_class_try.ipynb#X63sZmlsZQ%3D%3D?line=4'>5</a>\u001b[0m \u001b[39mprint\u001b[39m(g\u001b[39m.\u001b[39mreshape(a\u001b[39m.\u001b[39mshape[\u001b[39m0\u001b[39m],a\u001b[39m.\u001b[39mshape[\u001b[39m1\u001b[39m],a\u001b[39m.\u001b[39mshape[\u001b[39m1\u001b[39m]))\n",
      "\u001b[1;32m/Users/rky/Documents/GitHub/Machine-Learning/3-NN/NN_class_try.ipynb Cellule 40\u001b[0m in \u001b[0;36msoftmax.prime\u001b[0;34m(y)\u001b[0m\n\u001b[1;32m     <a href='vscode-notebook-cell:/Users/rky/Documents/GitHub/Machine-Learning/3-NN/NN_class_try.ipynb#X63sZmlsZQ%3D%3D?line=9'>10</a>\u001b[0m SM \u001b[39m=\u001b[39m y\u001b[39m.\u001b[39mreshape((\u001b[39m-\u001b[39m\u001b[39m1\u001b[39m,n))\n\u001b[1;32m     <a href='vscode-notebook-cell:/Users/rky/Documents/GitHub/Machine-Learning/3-NN/NN_class_try.ipynb#X63sZmlsZQ%3D%3D?line=10'>11</a>\u001b[0m \u001b[39mprint\u001b[39m(SM)\n\u001b[0;32m---> <a href='vscode-notebook-cell:/Users/rky/Documents/GitHub/Machine-Learning/3-NN/NN_class_try.ipynb#X63sZmlsZQ%3D%3D?line=11'>12</a>\u001b[0m jac \u001b[39m=\u001b[39m np\u001b[39m.\u001b[39;49mdiagflat(y) \u001b[39m-\u001b[39;49m np\u001b[39m.\u001b[39;49mdot(SM, SM\u001b[39m.\u001b[39;49mT)\n\u001b[1;32m     <a href='vscode-notebook-cell:/Users/rky/Documents/GitHub/Machine-Learning/3-NN/NN_class_try.ipynb#X63sZmlsZQ%3D%3D?line=12'>13</a>\u001b[0m \u001b[39mreturn\u001b[39;00m jac\n",
      "\u001b[0;31mValueError\u001b[0m: operands could not be broadcast together with shapes (6,6) (2,2) "
     ]
    }
   ],
   "source": [
    "dL = L_fct.backward()\n",
    "print(dL)\n",
    "g =softmax.prime(a)\n",
    "print(a.shape)\n",
    "print(g.reshape(a.shape[0],a.shape[1],a.shape[1]))\n",
    "print((g @ dL.T).T)"
   ]
  },
  {
   "cell_type": "code",
   "execution_count": 258,
   "metadata": {},
   "outputs": [
    {
     "name": "stdout",
     "output_type": "stream",
     "text": [
      "[[[ 0.0809707  -0.01095602 -0.0078691  -0.01474251 -0.00797417\n",
      "   -0.0078832  -0.00785971 -0.00792835 -0.00787689 -0.00788074]\n",
      "  [-0.01095602  0.10808494 -0.01091653 -0.02045177 -0.01106229\n",
      "   -0.01093609 -0.0109035  -0.01099873 -0.01092734 -0.01093268]\n",
      "  [-0.0078691  -0.01091653  0.08070721 -0.01468937 -0.00794543\n",
      "   -0.00785479 -0.00783138 -0.00789977 -0.0078485  -0.00785234]\n",
      "  [-0.01474251 -0.02045177 -0.01468937  0.13837166 -0.0148855\n",
      "   -0.01471569 -0.01467183 -0.01479997 -0.01470391 -0.0147111 ]\n",
      "  [-0.00797417 -0.01106229 -0.00794543 -0.0148855   0.08167871\n",
      "   -0.00795966 -0.00793594 -0.00800525 -0.00795329 -0.00795718]\n",
      "  [-0.0078832  -0.01093609 -0.00785479 -0.01471569 -0.00795966\n",
      "    0.08083773 -0.00784541 -0.00791393 -0.00786256 -0.00786641]\n",
      "  [-0.00785971 -0.0109035  -0.00783138 -0.01467183 -0.00793594\n",
      "   -0.00784541  0.08062019 -0.00789034 -0.00783913 -0.00784296]\n",
      "  [-0.00792835 -0.01099873 -0.00789977 -0.01479997 -0.00800525\n",
      "   -0.00791393 -0.00789034  0.0812554  -0.00790759 -0.00791146]\n",
      "  [-0.00787689 -0.01092734 -0.0078485  -0.01470391 -0.00795329\n",
      "   -0.00786256 -0.00783913 -0.00790759  0.08077932 -0.00786011]\n",
      "  [-0.00788074 -0.01093268 -0.00785234 -0.0147111  -0.00795718\n",
      "   -0.00786641 -0.00784296 -0.00791146 -0.00786011  0.08081499]]]\n",
      "(10, 1)\n",
      "[[ 4.96862400e-03 -1.65949867e-03 -6.90369504e-06 -3.14181627e-03\n",
      "  -7.31357005e-05 -1.58423480e-05 -9.37337341e-07 -4.43608819e-05\n",
      "  -1.18436016e-05 -1.42854945e-05]\n",
      " [-1.65949867e-03  2.21886032e-01 -4.59449757e-04 -2.09091901e-01\n",
      "  -4.86727465e-03 -1.05432857e-03 -6.23810019e-05 -2.95227357e-03\n",
      "  -7.88206871e-04 -9.50717976e-04]\n",
      " [-6.90369504e-06 -4.59449757e-04  1.38060843e-03 -8.69845059e-04\n",
      "  -2.02483921e-05 -4.38612158e-06 -2.59511755e-07 -1.22817793e-05\n",
      "  -3.27902635e-06 -3.95509022e-06]\n",
      " [-3.14181627e-03 -2.09091901e-01 -8.69845059e-04  2.33314162e-01\n",
      "  -9.21488093e-03 -1.99608877e-03 -1.18101719e-04 -5.58933929e-03\n",
      "  -1.49225860e-03 -1.79992985e-03]\n",
      " [-7.31357005e-05 -4.86727465e-03 -2.02483921e-05 -9.21488093e-03\n",
      "   1.44314998e-02 -4.64652729e-05 -2.74919067e-06 -1.30109532e-04\n",
      "  -3.47370339e-05 -4.18990544e-05]\n",
      " [-1.58423480e-05 -1.05432857e-03 -4.38612158e-06 -1.99608877e-03\n",
      "  -4.64652729e-05  3.16249097e-03 -5.95518126e-07 -2.81837799e-05\n",
      "  -7.52459026e-06 -9.07599702e-06]\n",
      " [-9.37337341e-07 -6.23810019e-05 -2.59511755e-07 -1.18101719e-04\n",
      "  -2.74919067e-06 -5.95518126e-07  1.87674016e-04 -1.66753749e-06\n",
      "  -4.45204172e-07 -5.36995584e-07]\n",
      " [-4.43608819e-05 -2.95227357e-03 -1.22817793e-05 -5.58933929e-03\n",
      "  -1.30109532e-04 -2.81837799e-05 -1.66753749e-06  8.80470044e-03\n",
      "  -2.10699487e-05 -2.54141136e-05]\n",
      " [-1.18436016e-05 -7.88206871e-04 -3.27902635e-06 -1.49225860e-03\n",
      "  -3.47370339e-05 -7.52459026e-06 -4.45204172e-07 -2.10699487e-05\n",
      "   2.36615001e-03 -6.78513643e-06]\n",
      " [-1.42854945e-05 -9.50717976e-04 -3.95509022e-06 -1.79992985e-03\n",
      "  -4.18990544e-05 -9.07599702e-06 -5.36995584e-07 -2.54141136e-05\n",
      "  -6.78513643e-06  2.85259971e-03]]\n",
      "[[[ 0.08097071 -0.01095602 -0.0078691  -0.01474252 -0.00797417\n",
      "   -0.0078832  -0.00785971 -0.00792835 -0.00787689 -0.00788075]\n",
      "  [-0.01095602  0.10808495 -0.01091653 -0.02045177 -0.01106229\n",
      "   -0.01093609 -0.0109035  -0.01099873 -0.01092734 -0.01093268]\n",
      "  [-0.0078691  -0.01091653  0.08070721 -0.01468937 -0.00794543\n",
      "   -0.00785479 -0.00783138 -0.00789978 -0.0078485  -0.00785234]\n",
      "  [-0.01474252 -0.02045177 -0.01468937  0.13837168 -0.0148855\n",
      "   -0.01471569 -0.01467183 -0.01479998 -0.01470391 -0.01471111]\n",
      "  [-0.00797417 -0.01106229 -0.00794543 -0.0148855   0.08167871\n",
      "   -0.00795966 -0.00793594 -0.00800525 -0.00795329 -0.00795718]\n",
      "  [-0.0078832  -0.01093609 -0.00785479 -0.01471569 -0.00795966\n",
      "    0.08083774 -0.00784541 -0.00791393 -0.00786256 -0.00786641]\n",
      "  [-0.00785971 -0.0109035  -0.00783138 -0.01467183 -0.00793594\n",
      "   -0.00784541  0.08062019 -0.00789034 -0.00783913 -0.00784296]\n",
      "  [-0.00792835 -0.01099873 -0.00789978 -0.01479998 -0.00800525\n",
      "   -0.00791393 -0.00789034  0.08125541 -0.00790759 -0.00791146]\n",
      "  [-0.00787689 -0.01092734 -0.0078485  -0.01470391 -0.00795329\n",
      "   -0.00786256 -0.00783913 -0.00790759  0.08077933 -0.00786011]\n",
      "  [-0.00788075 -0.01093268 -0.00785234 -0.01471111 -0.00795718\n",
      "   -0.00786641 -0.00784296 -0.00791146 -0.00786011  0.08081499]]]\n",
      "(10, 1)\n",
      "[[ 4.96862400e-03 -1.65949867e-03 -6.90369504e-06 -3.14181627e-03\n",
      "  -7.31357005e-05 -1.58423480e-05 -9.37337341e-07 -4.43608819e-05\n",
      "  -1.18436016e-05 -1.42854945e-05]\n",
      " [-1.65949867e-03  2.21886032e-01 -4.59449757e-04 -2.09091901e-01\n",
      "  -4.86727465e-03 -1.05432857e-03 -6.23810019e-05 -2.95227357e-03\n",
      "  -7.88206871e-04 -9.50717976e-04]\n",
      " [-6.90369504e-06 -4.59449757e-04  1.38060843e-03 -8.69845059e-04\n",
      "  -2.02483921e-05 -4.38612158e-06 -2.59511755e-07 -1.22817793e-05\n",
      "  -3.27902635e-06 -3.95509022e-06]\n",
      " [-3.14181627e-03 -2.09091901e-01 -8.69845059e-04  2.33314162e-01\n",
      "  -9.21488093e-03 -1.99608877e-03 -1.18101719e-04 -5.58933929e-03\n",
      "  -1.49225860e-03 -1.79992985e-03]\n",
      " [-7.31357005e-05 -4.86727465e-03 -2.02483921e-05 -9.21488093e-03\n",
      "   1.44314998e-02 -4.64652729e-05 -2.74919067e-06 -1.30109532e-04\n",
      "  -3.47370339e-05 -4.18990544e-05]\n",
      " [-1.58423480e-05 -1.05432857e-03 -4.38612158e-06 -1.99608877e-03\n",
      "  -4.64652729e-05  3.16249097e-03 -5.95518126e-07 -2.81837799e-05\n",
      "  -7.52459026e-06 -9.07599702e-06]\n",
      " [-9.37337341e-07 -6.23810019e-05 -2.59511755e-07 -1.18101719e-04\n",
      "  -2.74919067e-06 -5.95518126e-07  1.87674016e-04 -1.66753749e-06\n",
      "  -4.45204172e-07 -5.36995584e-07]\n",
      " [-4.43608819e-05 -2.95227357e-03 -1.22817793e-05 -5.58933929e-03\n",
      "  -1.30109532e-04 -2.81837799e-05 -1.66753749e-06  8.80470044e-03\n",
      "  -2.10699487e-05 -2.54141136e-05]\n",
      " [-1.18436016e-05 -7.88206871e-04 -3.27902635e-06 -1.49225860e-03\n",
      "  -3.47370339e-05 -7.52459026e-06 -4.45204172e-07 -2.10699487e-05\n",
      "   2.36615001e-03 -6.78513643e-06]\n",
      " [-1.42854945e-05 -9.50717976e-04 -3.95509022e-06 -1.79992985e-03\n",
      "  -4.18990544e-05 -9.07599702e-06 -5.36995584e-07 -2.54141136e-05\n",
      "  -6.78513643e-06  2.85259971e-03]]\n"
     ]
    },
    {
     "name": "stderr",
     "output_type": "stream",
     "text": [
      "2023-01-04 23:28:49.750664: I tensorflow/core/grappler/optimizers/custom_graph_optimizer_registry.cc:114] Plugin optimizer for device_type GPU is enabled.\n"
     ]
    }
   ],
   "source": [
    "g = Softmax_grad(a)\n",
    "print(g)\n",
    "print(softmax.prime(a))\n",
    "z_tf = tf.convert_to_tensor(z, dtype=tf.float32)\n",
    "tf_a = tf.keras.activations.softmax(z_tf)\n",
    "print(tf_softmax_grad(tf_a))\n",
    "print(softmax.prime(a))"
   ]
  },
  {
   "cell_type": "code",
   "execution_count": 217,
   "metadata": {},
   "outputs": [
    {
     "name": "stdout",
     "output_type": "stream",
     "text": [
      "0.09003057317038046 0.6652409557748218\n",
      "0.08192506906499324\n",
      "0.2226954265346234\n",
      "0.1848364465099787\n",
      "-0.05989202454481893\n",
      "-0.022033044520174298\n"
     ]
    }
   ],
   "source": [
    "a0 = a[0][0]\n",
    "a1 = a[0][1]\n",
    "a2 = a[0][2]\n",
    "print(a[0][0], a[0][1])\n",
    "print(a0*(1-a0))\n",
    "print(a1*(1-a1))\n",
    "print(a2*(1-a2))\n",
    "print(-a1*a0)\n",
    "print(-a0*a2)"
   ]
  },
  {
   "cell_type": "code",
   "execution_count": null,
   "metadata": {},
   "outputs": [],
   "source": []
  }
 ],
 "metadata": {
  "kernelspec": {
   "display_name": "game_env",
   "language": "python",
   "name": "python3"
  },
  "language_info": {
   "codemirror_mode": {
    "name": "ipython",
    "version": 3
   },
   "file_extension": ".py",
   "mimetype": "text/x-python",
   "name": "python",
   "nbconvert_exporter": "python",
   "pygments_lexer": "ipython3",
   "version": "3.10.6"
  },
  "orig_nbformat": 4,
  "vscode": {
   "interpreter": {
    "hash": "bc6c2409e22df4b6dc6c42eb7addfe820be784db604d44dacc946a75b91b0504"
   }
  }
 },
 "nbformat": 4,
 "nbformat_minor": 2
}
