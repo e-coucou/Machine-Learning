{
  "cells": [
    {
      "cell_type": "markdown",
      "metadata": {
        "id": "YCfOEgqYdOuZ"
      },
      "source": [
        "# Human-level control through deep reinforcement learning\n",
        "\n",
        "![Texte alternatif…](https://media.discordapp.net/attachments/505714807291379724/525388603375878145/Breakout-Atari-2600-Wallpaper.gif?width=400&height=248)\n",
        "\n",
        "*The theory ofreinforcementlearning provides a normative account , deeply rooted in psychological and neuroscientific perspectives on animal behaviour, of how agents may optimize their control of an environment.Touse reinforcementlearning successfully insituations approaching real-world complexity, however, agents are confronted with a difficulttask:they must derive efficientrepresentations ofthe environment from high-dimensional sensory inputs, and use these to generalize past experience tonewsituations.Remarkably, humans and other animalsseem to solve this problem through a harmonious combination ofreinforcementlearning andhierarchicalsensoryprocessing systems , the former evidenced by a wealth of neural data revealingnotableparallelsbetweenthe phasic signals emittedbydopaminergic neurons and temporal difference reinforcement learning algorithms .While reinforcementlearning agents have achievedsome successesina variety of domains ,their applicability has previously beenlimited to domainsinwhich usefulfeatures can be handcrafted, or to domains with fully observed, low-dimensional state spaces. Here we use recent advancesin training deep neural networks to develop a novel artificial agent, termed a deep Q-network, that can learnsuccessfulpoliciesdirectly fromhigh-dimensionalsensory inputs using end-to-end reinforcement learning. We tested this agent on the challenging domain of classic Atari 2600 games. We demonstrate that the deep Q-network agent, receiving only the pixels and the game score as inputs, was able to surpass the performance of all previous algorithms and achieve a level comparable to that of a professional humangamestester across a set of 49 games,using the same algorithm, network architecture and hyperparameters. This work bridges the divide between high-dimensional sensory inputs and actions,resulting in the first artificial agent that is capable of learning to excel at a diverse array of challenging tasks.*\n",
        "\n",
        "\n",
        "> **Les succès du renforcement se limitaient (Avant ~ 2012/2013) à la résolution de tâche avec des inputs travaillés et à des espaces dimensionnels réduit.**\n",
        "\n",
        "> **Méthode : deep Q-Network \"end to end reinforcment learning\". L'apprentissage est fait de bout en bout en renforcement.**\n",
        "\n",
        "> **Résultat : un agent ayant seulement accès aux pixels de l'image est capable de surpasser tout les algorithmes précédemment mit en place et d'atteindre un score relativement égal ou meilleur que des joueurs pros sur 49 Jeux d'Atari. Texte en gras**"
      ]
    },
    {
      "cell_type": "markdown",
      "metadata": {
        "id": "LIzOQbQtdV5j"
      },
      "source": [
        "*We set out to create a single algorithm that would be able to develop a wide range of competencies on a varied range of challenging tasks—a central goal of general artificial intelligence that has eluded previous effort. To achieve this,we developed anovel agent, a deepQ-network (DQN), which is able to combine reinforcement learning with a class of artificial neural network known as deep neural networks. Notably, recent advances in deep neural networks, in which several layers of nodes are used to build up progressively more abstractrepresentations of the data, have made it possible for artificial neural networksto learn concepts such as object categories directly from raw sensory data. We use one particularly successful architecture, the deep convolutional network, which uses hierarchical layers of tiled convolutional filters to mimic the effects ofreceptive fields—inspired byHubel andWiesel’s seminalwork on feedforward processing inearly visual cortex —thereby exploiting the localspatial correlations present in images, and building in robustness*\n",
        "\n",
        "> **Le but : obtenir un agent capable d'apprendre sur un énorme set d'environnement. Pour cela, ils ont décider de recourir au réseau de neuronne grâce à leur capacité de créer une représentation abstraire des données d'entrées**\n",
        "\n",
        "> ** Architecture : Deep Convolutional, neural network..**"
      ]
    },
    {
      "cell_type": "markdown",
      "metadata": {
        "id": "NvfJRfHuej4q"
      },
      "source": [
        "![Texte alternatif…](https://media.springernature.com/full/nature-static/assets/v1/image-assets/nature14236-f1.jpg)\n",
        "\n"
      ]
    },
    {
      "cell_type": "markdown",
      "metadata": {
        "id": "X3t3CdEOfNyg"
      },
      "source": [
        "![Texte alternatif…](https://pbs.twimg.com/media/B_PrYU3U0AAtL1K.png)\n"
      ]
    },
    {
      "cell_type": "markdown",
      "metadata": {
        "id": "j5prCjrzfV7A"
      },
      "source": [
        "*We considertasksin which the agent interacts with an environment through a sequence of observations, actions and rewards.The goal of the agent isto select actions in a fashion that maximizes cumulative future reward. More formally,we use a deep convolutional neural network to approximate the optimal action-value function.*\n",
        "\n",
        "\n",
        "> **L'agent est exposé à des séquences d'observation et récompense. Le but de l'agent est de sélectionner les actions de manière à maximiser le nombre de futures récompenses obtenu. Le modèle réalisant l'approximation de la fonction optimal calculant l'espérance de chaque action est donné par un réseau de neurones.. **"
      ]
    },
    {
      "cell_type": "markdown",
      "metadata": {
        "id": "fll9X8gzhRyo"
      },
      "source": [
        "![Texte alternatif…](https://github.com/thibo73800/aihub/blob/master/images/optimal_action_value_function.png?raw=true)\n"
      ]
    },
    {
      "cell_type": "markdown",
      "metadata": {
        "id": "q-MjqaGqhqbC"
      },
      "source": [
        "*Reinforcement learning is known to be unstable or even to diverge when a nonlinear function approximator such as a neural network is used to represent the action-value (also known as Q) function20 . This instability has several causes: the correlations present in the sequence of observations,the fact that small updates toQ may significantly change the policy and therefore change the data distribution, and the correlations between the action-values(Q) and the target value. We addressthese instabilitieswith a novel variant of Q-learning,which uses two key ideas. F*\n",
        "*First, we used a biologically inspired mechanism termed experience replay that randomizes over the data, thereby removing correlationsin the observation sequence and smoothing over changesin the data distribution.\n",
        "Second,we used an iterative update that adjusts the action-values (Q) towards target values that are only periodically updated, thereby reducing correlations with the target.*\n",
        "\n",
        "**>L'apprentissage par renforcement est instable ou diverge lorsqu'on introduit une fonction non-linéaire est utilisé pour faire l'approximation de la Q fonction. **\n",
        "\n",
        "**>L'instabilité à deux causes, la corrélation présente dans la séquence observé. **\n",
        "\n",
        "**>  Le fait qu'on l'on soit constamment en train de modifier Q, ce qui change la \"policy\" (les décisions que l'on prend) et ainsi change la distribution des données continuellement.**\n",
        "\n",
        "**> Et enfin, la corrélation direct entre l'approximation que l'onf fait de la Q function et la target. (voir formule).**"
      ]
    },
    {
      "cell_type": "markdown",
      "metadata": {
        "id": "vPXH1ABsiExd"
      },
      "source": [
        "![Texte alternatif…](https://github.com/thibo73800/aihub/blob/master/images/q_function_loss_without_target.png?raw=true)"
      ]
    },
    {
      "cell_type": "markdown",
      "metadata": {
        "id": "n9SInIuGim3B"
      },
      "source": [
        "### Solutions:\n",
        "\n",
        "> **Expérience replay : supprime la corrélation dans les données et réalise un changement moins brutal dans la distribution des données..**\n",
        "\n",
        "> **Target network: Utilise une copie de notre fonction Q pour calculer la target, et modifier cette copie seulement périodiquement pour ne pas sans cesse changer la target dans la formule d'erreur.**\n",
        "\n",
        "![Texte alternatif…](https://github.com/thibo73800/aihub/blob/master/images/q_learning_loss_with_target.png?raw=true)"
      ]
    },
    {
      "cell_type": "markdown",
      "metadata": {
        "id": "5dv1X9NRhT9H"
      },
      "source": []
    },
    {
      "cell_type": "markdown",
      "metadata": {
        "id": "4v691XeP6oeZ"
      },
      "source": [
        "#Install dependencies"
      ]
    },
    {
      "cell_type": "code",
      "execution_count": 1,
      "metadata": {
        "id": "iGP84fKg66uT"
      },
      "outputs": [],
      "source": [
        "%matplotlib inline\n",
        "\n",
        "from collections import deque, namedtuple\n",
        "from gym.wrappers import Monitor\n",
        "import matplotlib.pyplot as plt\n",
        "import tensorflow as tf\n",
        "import numpy as np\n",
        "import itertools\n",
        "import random\n",
        "import gym\n",
        "import os\n",
        "import sys"
      ]
    },
    {
      "cell_type": "code",
      "execution_count": 2,
      "metadata": {
        "colab": {
          "base_uri": "https://localhost:8080/",
          "height": 34
        },
        "id": "wG5mbNpj9E2Q",
        "outputId": "65f392db-8edf-49c1-ef76-da1d65fbae10"
      },
      "outputs": [
        {
          "name": "stderr",
          "output_type": "stream",
          "text": [
            "2022-05-24 00:04:54.113821: I tensorflow/core/common_runtime/pluggable_device/pluggable_device_factory.cc:305] Could not identify NUMA node of platform GPU ID 0, defaulting to 0. Your kernel may not have been built with NUMA support.\n",
            "2022-05-24 00:04:54.113928: I tensorflow/core/common_runtime/pluggable_device/pluggable_device_factory.cc:271] Created TensorFlow device (/device:GPU:0 with 0 MB memory) -> physical PluggableDevice (device: 0, name: METAL, pci bus id: <undefined>)\n"
          ]
        },
        {
          "data": {
            "text/plain": [
              "['/device:GPU:0']"
            ]
          },
          "execution_count": 2,
          "metadata": {},
          "output_type": "execute_result"
        },
        {
          "name": "stdout",
          "output_type": "stream",
          "text": [
            "Metal device set to: Apple M1\n",
            "\n",
            "systemMemory: 16.00 GB\n",
            "maxCacheSize: 5.33 GB\n",
            "\n"
          ]
        }
      ],
      "source": [
        "VALID_ACTIONS = [0, 1, 2, 3]\n",
        "\n",
        "\n",
        "from tensorflow.python.client import device_lib\n",
        "\n",
        "def get_available_gpus():\n",
        "    local_device_protos = device_lib.list_local_devices()\n",
        "    return [x.name for x in local_device_protos if x.device_type == 'GPU']\n",
        "get_available_gpus()"
      ]
    },
    {
      "cell_type": "markdown",
      "metadata": {
        "id": "Sw8k5PP57ZOB"
      },
      "source": [
        "## Préprocessing:\n",
        "\n",
        "*Preprocessing. Working directlywith rawAtari 2600 frames,which are 2103 160 pixel images with a 128-colour palette, can be demanding in terms of computation and memory requirements.We apply a basic preprocessing step aimed atreducing the input dimensionality and dealing with some artefacts of the Atari 2600 emulator. First,to encode a single framewe take themaximum value for each pixel colour value overthe frame being encoded and the previousframe. This was necessary to remove flickering that is present in games where some objects appear only in even frames while other objects appear only in odd frames, an artefact caused by the limited number of sprites Atari 2600 can display at once. Second, we then extract the Y channel, also known as luminance, from the RGB frame and rescale it to 84 3 84.The function w from algorithm 1 described belowappliesthis preprocessing to the m most recent frames and stacks them to produce the input to the Q-function, inwhichm 5 4, although the algorithm isrobust to different values of m (for example, 3 or 5).*\n",
        "\n",
        "> **Image en noir et blanc**\n",
        "\n",
        "> ** Image réduit à 84*84 **\n",
        "\n",
        "> ** On stack les 4 dernière images perçu. On à donc une image de (84, 84, 4) **"
      ]
    },
    {
      "cell_type": "code",
      "execution_count": 3,
      "metadata": {
        "id": "hr_DXIZY7cYh"
      },
      "outputs": [],
      "source": [
        "class StateProcessor():\n",
        "\n",
        "    def __init__(self):\n",
        "      with tf.compat.v1.variable_scope(\"process\"):\n",
        "        self.input_state = tf.compat.v1.placeholder(shape=[210, 160, 3], dtype=tf.uint8, name=\"input_process\")\n",
        "        self.output = tf.image.rgb_to_grayscale(self.input_state)\n",
        "        self.output = tf.image.crop_to_bounding_box(self.output, 34, 0, 160, 160)\n",
        "        self.output = tf.compat.v1.image.resize_images(    \n",
        "        self.output, [84, 84], method=tf.image.ResizeMethod.NEAREST_NEIGHBOR)\n",
        "        self.output = tf.squeeze(self.output)\n",
        "\n",
        "    def process(self, sess, state):\n",
        "        return sess.run(self.output, { self.input_state: state })"
      ]
    },
    {
      "cell_type": "markdown",
      "metadata": {
        "id": "Dv-LX6olCTYe"
      },
      "source": [
        "### Test the environement"
      ]
    },
    {
      "cell_type": "code",
      "execution_count": 4,
      "metadata": {
        "id": "T5gXl7E0CWh3"
      },
      "outputs": [],
      "source": [
        "import gym\n",
        "import time\n",
        "\n",
        "env = gym.make('Breakout-v0')\n",
        "env.reset()\n",
        "\n",
        "for _ in range(1000):\n",
        "    observation, reward, done, info = env.step(env.action_space.sample())\n",
        "    if done:\n",
        "        break"
      ]
    },
    {
      "cell_type": "markdown",
      "metadata": {
        "id": "8cY6KcfXCgvC"
      },
      "source": [
        "## Display and process the observation"
      ]
    },
    {
      "cell_type": "code",
      "execution_count": 5,
      "metadata": {
        "colab": {
          "base_uri": "https://localhost:8080/",
          "height": 614
        },
        "id": "yxvyqA_KCgPL",
        "outputId": "07e99096-3019-40b0-ab4d-a36c232eaca2"
      },
      "outputs": [
        {
          "name": "stderr",
          "output_type": "stream",
          "text": [
            "2022-05-24 00:05:14.345626: I tensorflow/core/common_runtime/pluggable_device/pluggable_device_factory.cc:305] Could not identify NUMA node of platform GPU ID 0, defaulting to 0. Your kernel may not have been built with NUMA support.\n",
            "2022-05-24 00:05:14.345669: I tensorflow/core/common_runtime/pluggable_device/pluggable_device_factory.cc:271] Created TensorFlow device (/job:localhost/replica:0/task:0/device:GPU:0 with 0 MB memory) -> physical PluggableDevice (device: 0, name: METAL, pci bus id: <undefined>)\n",
            "2022-05-24 00:05:14.349089: W tensorflow/core/platform/profile_utils/cpu_utils.cc:128] Failed to get CPU frequency: 0 Hz\n"
          ]
        },
        {
          "data": {
            "image/png": "[encoded data removed]",
            "text/plain": [
              "<Figure size 432x288 with 1 Axes>"
            ]
          },
          "metadata": {
            "needs_background": "dark"
          },
          "output_type": "display_data"
        },
        {
          "name": "stderr",
          "output_type": "stream",
          "text": [
            "2022-05-24 00:05:14.490288: I tensorflow/core/grappler/optimizers/custom_graph_optimizer_registry.cc:112] Plugin optimizer for device_type GPU is enabled.\n"
          ]
        },
        {
          "data": {
            "image/png": "[encoded data removed]",
            "text/plain": [
              "<Figure size 432x288 with 1 Axes>"
            ]
          },
          "metadata": {
            "needs_background": "dark"
          },
          "output_type": "display_data"
        }
      ],
      "source": [
        "tf.compat.v1.reset_default_graph()\n",
        "\n",
        "with tf.compat.v1.Session() as sess:\n",
        "  sess.run(tf.compat.v1.global_variables_initializer())\n",
        "  \n",
        "  plt.title(\"Original observation\")\n",
        "  plt.imshow(observation)\n",
        "  plt.show()\n",
        "\n",
        "  state_processor = StateProcessor()\n",
        "  process_obs = state_processor.process(sess, observation)\n",
        "  \n",
        "  plt.title(\"Process observation\")\n",
        "  plt.imshow(process_obs)\n",
        "  plt.show()\n",
        "\n"
      ]
    },
    {
      "cell_type": "markdown",
      "metadata": {
        "id": "YXdOgdDP74nP"
      },
      "source": [
        "# DQN: Deep Q Network\n",
        "\n",
        "\n",
        "*There are several possible ways of parameterizing Q using a neural network. Because Q maps history–action pairs to scalar estimates of their Q-value, the history and the action have been used as inputsto the neural network by some previous approaches 24,26 . The main drawback of this type of architecture is that a separate forward pass is required to compute the Q-value of each action, resulting in a cost thatscaleslinearlywith the number of actions.We instead use an architecture in which there is a separate output unit for each possible action, and only the state representation is an input to the neural network. The outputs correspond to the predicted Q-values of the individual actions forthe inputstate. The main advantage of thistype of architecture isthe ability to compute Q-valuesfor all possible actionsin a given statewith only a single forward passthrough the network. The exact architecture, shown schematically in Fig. 1, is as follows. The input to the neural network consists of an 843 843 4 image produced by the preprocessing map w. The first hidden layer convolves 32 filters of 8 3 8 with stride 4with the input image and applies a rectifier nonlinearity31,32 . The second hidden layer convolves 64 filters of 4 3 4 with stride 2, again followed by a rectifier nonlinearity. Thisisfollowed by a third convolutional layerthat convolves 64 filters of 3 3 3with stride 1 followed by a rectifier. The final hidden layer is fully-connected and consists of 512 rectifier units. The output layer is a fully-connected linear layer with a single output for each valid action. The number of valid actions varied between 4 and 18 on the games we considered. *\n",
        "\n",
        "> **Input (84, 84, 4) **\n",
        "\n",
        "> **Convolution 32 filtres de 8*8 et des strides de 4 avec relu activation **\n",
        "\n",
        "> **Convolution 64 filtres de 4*4 avec des strides de 2 et une activation par relu**\n",
        "\n",
        "> **Convolution 64 filtres de 3*3 avec stride de 1 avec une activation par relu**\n",
        "\n",
        "> **Hidden layer: 542 avec activation par relu**\n",
        "\n",
        "> **Output layer: activation linéair avec autant d'unité que le nombre d'action disponible.**\n",
        "\n",
        "![Texte alternatif…](https://github.com/thibo73800/aihub/blob/master/images/q_learning_loss_with_target.png?raw=true)"
      ]
    },
    {
      "cell_type": "code",
      "execution_count": 32,
      "metadata": {
        "id": "ZcR_4CSp8CIe"
      },
      "outputs": [],
      "source": [
        "class DQN():\n",
        "\n",
        "    def __init__(self, scope):\n",
        "      self.scope = scope\n",
        "      with tf.compat.v1.variable_scope(self.scope):\n",
        "        self._build_model()\n",
        "\n",
        "    def _build_model(self):\n",
        "        # 4 Last frames of the game\n",
        "        self.X_pl = tf.compat.v1.placeholder(shape=[None, 84, 84, 4], dtype=tf.uint8, name=\"X\")\n",
        "        # The TD target value\n",
        "        self.y_pl = tf.compat.v1.placeholder(shape=[None], dtype=tf.float32, name=\"y\")\n",
        "        # Integer id of which action was selected\n",
        "        self.actions_pl = tf.compat.v1.placeholder(shape=[None], dtype=tf.int32, name=\"actions\")\n",
        "\n",
        "        # Rescale the image\n",
        "        X = tf.compat.v1.to_float(self.X_pl) / 255.0\n",
        "        # Get the batch size\n",
        "        batch_size = tf.shape(self.X_pl)[0]\n",
        "\n",
        "        # Three convolutional layers\n",
        "        conv1 = tf.compat.v1.layers.conv2d(X, 32, 8, 4, activation=tf.nn.relu)\n",
        "        conv2 = tf.compat.v1.layers.conv2d(conv1, 64, 4, 2, activation=tf.nn.relu)\n",
        "        conv3 = tf.compat.v1.layers.conv2d(conv2, 64, 3, 1, activation=tf.nn.relu)\n",
        "\n",
        "        # Fully connected layers\n",
        "        flattened = tf.compat.v1.layers.flatten(conv3)\n",
        "        fc1 = tf.compat.v1.layers.dense(flattened, 512, activation=tf.nn.relu)\n",
        "        self.predictions = tf.compat.v1.layers.dense(fc1, len(VALID_ACTIONS))\n",
        "        tf.identity(self.predictions, name=\"predictions\")\n",
        "\n",
        "        # Get the predictions for the chosen actions only\n",
        "        gather_indices = tf.range(batch_size) * tf.shape(self.predictions)[1] + self.actions_pl\n",
        "        self.action_predictions = tf.gather(tf.reshape(self.predictions, [-1]), gather_indices)\n",
        "\n",
        "        # Calculate the loss\n",
        "        self.losses = tf.compat.v1.squared_difference(self.y_pl, self.action_predictions)\n",
        "        self.loss = tf.reduce_mean(self.losses)\n",
        "\n",
        "        # Optimizer Parameters from original paper\n",
        "        self.optimizer = tf.compat.v1.train.RMSPropOptimizer(0.00025, 0.99, 0.0, 1e-6)\n",
        "        self.train_op = self.optimizer.minimize(self.loss)\n",
        "\n",
        "    def predict(self, sess, s):\n",
        "        return sess.run(self.predictions, { self.X_pl: s })\n",
        "\n",
        "    def update(self, sess, s, a, y):\n",
        "        feed_dict = { self.X_pl: s, self.y_pl: y, self.actions_pl: a }\n",
        "        ops = [self.train_op, self.loss]\n",
        "        _, loss = sess.run(ops, feed_dict)\n",
        "        return loss"
      ]
    },
    {
      "cell_type": "markdown",
      "metadata": {
        "id": "fuDZqZSX-iNJ"
      },
      "source": [
        "### Copy Target Network\n"
      ]
    },
    {
      "cell_type": "code",
      "execution_count": 43,
      "metadata": {
        "id": "LF_E07pj-nVY"
      },
      "outputs": [],
      "source": [
        "def copy_model_parameters(sess, estimator1, estimator2):\n",
        "    e1_params = [t for t in tf.compat.v1.trainable_variables() if t.name.startswith(estimator1.scope)]\n",
        "    e1_params = sorted(e1_params, key=lambda v: v.name)\n",
        "    e2_params = [t for t in tf.compat.v1.trainable_variables() if t.name.startswith(estimator2.scope)]\n",
        "    e2_params = sorted(e2_params, key=lambda v: v.name)\n",
        "\n",
        "    update_ops = []\n",
        "    for e1_v, e2_v in zip(e1_params, e2_params):\n",
        "        op = e2_v.assign(e1_v)\n",
        "        update_ops.append(op)\n",
        "\n",
        "    sess.run(update_ops)"
      ]
    },
    {
      "cell_type": "markdown",
      "metadata": {
        "id": "WtYske8X_yUs"
      },
      "source": [
        "### Create model"
      ]
    },
    {
      "cell_type": "code",
      "execution_count": 44,
      "metadata": {
        "colab": {
          "base_uri": "https://localhost:8080/",
          "height": 445
        },
        "id": "Hz7Lqitx_w-K",
        "outputId": "cd119f4e-2681-4529-ab70-ebae764e9213"
      },
      "outputs": [
        {
          "name": "stderr",
          "output_type": "stream",
          "text": [
            "/var/folders/vw/2g_98rts7tzczmvh5hqt_qn00000gn/T/ipykernel_33554/794254304.py:22: UserWarning: `tf.layers.conv2d` is deprecated and will be removed in a future version. Please Use `tf.keras.layers.Conv2D` instead.\n",
            "  conv1 = tf.compat.v1.layers.conv2d(X, 32, 8, 4, activation=tf.nn.relu)\n",
            "/Users/rky/miniforge3/envs/env-tf/lib/python3.9/site-packages/keras/legacy_tf_layers/convolutional.py:563: UserWarning: `layer.apply` is deprecated and will be removed in a future version. Please use `layer.__call__` method instead.\n",
            "  return layer.apply(inputs)\n",
            "/var/folders/vw/2g_98rts7tzczmvh5hqt_qn00000gn/T/ipykernel_33554/794254304.py:23: UserWarning: `tf.layers.conv2d` is deprecated and will be removed in a future version. Please Use `tf.keras.layers.Conv2D` instead.\n",
            "  conv2 = tf.compat.v1.layers.conv2d(conv1, 64, 4, 2, activation=tf.nn.relu)\n",
            "/var/folders/vw/2g_98rts7tzczmvh5hqt_qn00000gn/T/ipykernel_33554/794254304.py:24: UserWarning: `tf.layers.conv2d` is deprecated and will be removed in a future version. Please Use `tf.keras.layers.Conv2D` instead.\n",
            "  conv3 = tf.compat.v1.layers.conv2d(conv2, 64, 3, 1, activation=tf.nn.relu)\n",
            "/var/folders/vw/2g_98rts7tzczmvh5hqt_qn00000gn/T/ipykernel_33554/794254304.py:27: UserWarning: `tf.layers.flatten` is deprecated and will be removed in a future version. Please use `tf.keras.layers.Flatten` instead.\n",
            "  flattened = tf.compat.v1.layers.flatten(conv3)\n",
            "/Users/rky/miniforge3/envs/env-tf/lib/python3.9/site-packages/keras/legacy_tf_layers/core.py:523: UserWarning: `layer.apply` is deprecated and will be removed in a future version. Please use `layer.__call__` method instead.\n",
            "  return layer.apply(inputs)\n",
            "/var/folders/vw/2g_98rts7tzczmvh5hqt_qn00000gn/T/ipykernel_33554/794254304.py:28: UserWarning: `tf.layers.dense` is deprecated and will be removed in a future version. Please use `tf.keras.layers.Dense` instead.\n",
            "  fc1 = tf.compat.v1.layers.dense(flattened, 512, activation=tf.nn.relu)\n",
            "/Users/rky/miniforge3/envs/env-tf/lib/python3.9/site-packages/keras/legacy_tf_layers/core.py:255: UserWarning: `layer.apply` is deprecated and will be removed in a future version. Please use `layer.__call__` method instead.\n",
            "  return layer.apply(inputs)\n",
            "/var/folders/vw/2g_98rts7tzczmvh5hqt_qn00000gn/T/ipykernel_33554/794254304.py:29: UserWarning: `tf.layers.dense` is deprecated and will be removed in a future version. Please use `tf.keras.layers.Dense` instead.\n",
            "  self.predictions = tf.compat.v1.layers.dense(fc1, len(VALID_ACTIONS))\n"
          ]
        }
      ],
      "source": [
        "tf.compat.v1.reset_default_graph()\n",
        "tf.compat.v1.disable_eager_execution()\n",
        "\n",
        "# DQN\n",
        "dqn = DQN(scope=\"dqn\")\n",
        "# DQN target\n",
        "target_dqn = DQN(scope=\"target_dqn\")\n",
        "\n",
        "\n",
        "# State processor\n",
        "state_processor = StateProcessor()\n"
      ]
    },
    {
      "cell_type": "markdown",
      "metadata": {
        "id": "nvfBMnc9ENYI"
      },
      "source": [
        "### Hyperparameters"
      ]
    },
    {
      "cell_type": "code",
      "execution_count": 45,
      "metadata": {
        "id": "0mUr61qPD0dc"
      },
      "outputs": [],
      "source": [
        "num_episodes = 10000\n",
        "\n",
        "replay_memory_size = 250000\n",
        "replay_memory_init_size = 50000\n",
        "\n",
        "update_target_estimator_every = 10000\n",
        "\n",
        "epsilon_start = 1.0\n",
        "epsilon_end = 0.1\n",
        "\n",
        "\n",
        "epsilon_decay_steps = 500000\n",
        "discount_factor = 0.99\n",
        "batch_size = 32"
      ]
    },
    {
      "cell_type": "markdown",
      "metadata": {
        "id": "acIxMR-O_RWf"
      },
      "source": [
        "### Epsilon greedy"
      ]
    },
    {
      "cell_type": "code",
      "execution_count": 36,
      "metadata": {
        "id": "Jgj7Y-ey_Usm"
      },
      "outputs": [],
      "source": [
        "def make_epsilon_greedy_policy(estimator, nA):\n",
        "    def policy_fn(sess, observation, epsilon):\n",
        "        A = np.ones(nA, dtype=float) * epsilon / nA\n",
        "        q_values = estimator.predict(sess, np.expand_dims(observation, 0))[0]\n",
        "        best_action = np.argmax(q_values)\n",
        "        A[best_action] += (1.0 - epsilon)\n",
        "        return A\n",
        "    return policy_fn"
      ]
    },
    {
      "cell_type": "code",
      "execution_count": 37,
      "metadata": {
        "id": "nj3TVr079M1x"
      },
      "outputs": [],
      "source": [
        "#saver = tf.train.Saver()\n",
        "start_i_episode = 0\n",
        "opti_step = -1\n",
        "\n",
        "# The replay memory\n",
        "replay_memory = []\n",
        "\n"
      ]
    },
    {
      "cell_type": "markdown",
      "metadata": {
        "id": "KeBM7oh-Eprn"
      },
      "source": [
        "# Algorithm\n",
        "\n",
        "![Texte alternatif…](https://github.com/thibo73800/aihub/blob/master/images/algorithm_q_learning.png?raw=true)"
      ]
    },
    {
      "cell_type": "code",
      "execution_count": 42,
      "metadata": {
        "colab": {
          "base_uri": "https://localhost:8080/",
          "height": 122
        },
        "id": "Chjh8mEUE0DS",
        "outputId": "fc9eac2f-65f2-4439-bab8-f48ab9212872"
      },
      "outputs": [
        {
          "name": "stdout",
          "output_type": "stream",
          "text": [
            " Epsilon (1.0) ReplayMemorySize : (230) rSum: (nan) best_epi_reward: (0) OptiStep (-1) @ Episode 1/10000, loss: None"
          ]
        },
        {
          "name": "stderr",
          "output_type": "stream",
          "text": [
            "2022-05-24 00:15:50.320244: I tensorflow/core/common_runtime/pluggable_device/pluggable_device_factory.cc:305] Could not identify NUMA node of platform GPU ID 0, defaulting to 0. Your kernel may not have been built with NUMA support.\n",
            "2022-05-24 00:15:50.320270: I tensorflow/core/common_runtime/pluggable_device/pluggable_device_factory.cc:271] Created TensorFlow device (/job:localhost/replica:0/task:0/device:GPU:0 with 0 MB memory) -> physical PluggableDevice (device: 0, name: METAL, pci bus id: <undefined>)\n",
            "2022-05-24 00:15:50.329324: I tensorflow/core/grappler/optimizers/custom_graph_optimizer_registry.cc:112] Plugin optimizer for device_type GPU is enabled.\n",
            "2022-05-24 00:15:50.489962: I tensorflow/core/grappler/optimizers/custom_graph_optimizer_registry.cc:112] Plugin optimizer for device_type GPU is enabled.\n",
            "/Users/rky/miniforge3/envs/env-tf/lib/python3.9/site-packages/numpy/core/fromnumeric.py:3440: RuntimeWarning: Mean of empty slice.\n",
            "  return _methods._mean(a, axis=axis, dtype=dtype,\n",
            "/Users/rky/miniforge3/envs/env-tf/lib/python3.9/site-packages/numpy/core/_methods.py:189: RuntimeWarning: invalid value encountered in double_scalars\n",
            "  ret = ret.dtype.type(ret / rcount)\n",
            "2022-05-24 00:15:50.503286: I tensorflow/core/grappler/optimizers/custom_graph_optimizer_registry.cc:112] Plugin optimizer for device_type GPU is enabled.\n"
          ]
        },
        {
          "name": "stdout",
          "output_type": "stream",
          "text": [
            " Epsilon (1.0) ReplayMemorySize : (675) rSum: (5.0) best_epi_reward: (5.0) OptiStep (-1) @ Episode 2/10000, loss: None"
          ]
        },
        {
          "name": "stderr",
          "output_type": "stream",
          "text": [
            "2022-05-24 00:15:53.351129: I tensorflow/core/grappler/optimizers/custom_graph_optimizer_registry.cc:112] Plugin optimizer for device_type GPU is enabled.\n"
          ]
        },
        {
          "name": "stdout",
          "output_type": "stream",
          "text": [
            " Epsilon (1.0) ReplayMemorySize : (50301) rSum: (1.64) best_epi_reward: (5.0) OptiStep (-1) @ Episode 197/10000, loss: None00, loss: None"
          ]
        },
        {
          "name": "stderr",
          "output_type": "stream",
          "text": [
            "2022-05-24 00:20:58.391576: I tensorflow/core/grappler/optimizers/custom_graph_optimizer_registry.cc:112] Plugin optimizer for device_type GPU is enabled.\n",
            "2022-05-24 00:20:58.695387: I tensorflow/core/grappler/optimizers/custom_graph_optimizer_registry.cc:112] Plugin optimizer for device_type GPU is enabled.\n"
          ]
        },
        {
          "ename": "AttributeError",
          "evalue": "module 'tensorflow' has no attribute 'trainable_variables'",
          "output_type": "error",
          "traceback": [
            "\u001b[0;31m---------------------------------------------------------------------------\u001b[0m",
            "\u001b[0;31mAttributeError\u001b[0m                            Traceback (most recent call last)",
            "\u001b[1;32m/Users/rky/Documents/GitHub/Machine-Learning/1-DQN/DQN.ipynb Cell 32'\u001b[0m in \u001b[0;36m<cell line: 1>\u001b[0;34m()\u001b[0m\n\u001b[1;32m     <a href='vscode-notebook-cell:/Users/rky/Documents/GitHub/Machine-Learning/1-DQN/DQN.ipynb#ch0000031?line=45'>46</a>\u001b[0m \u001b[39m# Update the target network\u001b[39;00m\n\u001b[1;32m     <a href='vscode-notebook-cell:/Users/rky/Documents/GitHub/Machine-Learning/1-DQN/DQN.ipynb#ch0000031?line=46'>47</a>\u001b[0m \u001b[39mif\u001b[39;00m opti_step \u001b[39m%\u001b[39m update_target_estimator_every \u001b[39m==\u001b[39m \u001b[39m0\u001b[39m:\n\u001b[0;32m---> <a href='vscode-notebook-cell:/Users/rky/Documents/GitHub/Machine-Learning/1-DQN/DQN.ipynb#ch0000031?line=47'>48</a>\u001b[0m     copy_model_parameters(sess, dqn, target_dqn)\n\u001b[1;32m     <a href='vscode-notebook-cell:/Users/rky/Documents/GitHub/Machine-Learning/1-DQN/DQN.ipynb#ch0000031?line=49'>50</a>\u001b[0m \u001b[39mprint\u001b[39m(\u001b[39m\"\u001b[39m\u001b[39m\\r\u001b[39;00m\u001b[39m Epsilon (\u001b[39m\u001b[39m{}\u001b[39;00m\u001b[39m) ReplayMemorySize : (\u001b[39m\u001b[39m{}\u001b[39;00m\u001b[39m) rSum: (\u001b[39m\u001b[39m{}\u001b[39;00m\u001b[39m) best_epi_reward: (\u001b[39m\u001b[39m{}\u001b[39;00m\u001b[39m) OptiStep (\u001b[39m\u001b[39m{}\u001b[39;00m\u001b[39m) @ Episode \u001b[39m\u001b[39m{}\u001b[39;00m\u001b[39m/\u001b[39m\u001b[39m{}\u001b[39;00m\u001b[39m, loss: \u001b[39m\u001b[39m{}\u001b[39;00m\u001b[39m\"\u001b[39m\u001b[39m.\u001b[39mformat(epsilon, len_replay_memory, mean_epi_reward, best_epi_reward, opti_step, i_episode \u001b[39m+\u001b[39m \u001b[39m1\u001b[39m, num_episodes, loss), end\u001b[39m=\u001b[39m\u001b[39m\"\u001b[39m\u001b[39m\"\u001b[39m)\n\u001b[1;32m     <a href='vscode-notebook-cell:/Users/rky/Documents/GitHub/Machine-Learning/1-DQN/DQN.ipynb#ch0000031?line=50'>51</a>\u001b[0m sys\u001b[39m.\u001b[39mstdout\u001b[39m.\u001b[39mflush()\n",
            "\u001b[1;32m/Users/rky/Documents/GitHub/Machine-Learning/1-DQN/DQN.ipynb Cell 23'\u001b[0m in \u001b[0;36mcopy_model_parameters\u001b[0;34m(sess, estimator1, estimator2)\u001b[0m\n\u001b[1;32m      <a href='vscode-notebook-cell:/Users/rky/Documents/GitHub/Machine-Learning/1-DQN/DQN.ipynb#ch0000022?line=0'>1</a>\u001b[0m \u001b[39mdef\u001b[39;00m \u001b[39mcopy_model_parameters\u001b[39m(sess, estimator1, estimator2):\n\u001b[0;32m----> <a href='vscode-notebook-cell:/Users/rky/Documents/GitHub/Machine-Learning/1-DQN/DQN.ipynb#ch0000022?line=1'>2</a>\u001b[0m     e1_params \u001b[39m=\u001b[39m [t \u001b[39mfor\u001b[39;00m t \u001b[39min\u001b[39;00m tf\u001b[39m.\u001b[39;49mtrainable_variables() \u001b[39mif\u001b[39;00m t\u001b[39m.\u001b[39mname\u001b[39m.\u001b[39mstartswith(estimator1\u001b[39m.\u001b[39mscope)]\n\u001b[1;32m      <a href='vscode-notebook-cell:/Users/rky/Documents/GitHub/Machine-Learning/1-DQN/DQN.ipynb#ch0000022?line=2'>3</a>\u001b[0m     e1_params \u001b[39m=\u001b[39m \u001b[39msorted\u001b[39m(e1_params, key\u001b[39m=\u001b[39m\u001b[39mlambda\u001b[39;00m v: v\u001b[39m.\u001b[39mname)\n\u001b[1;32m      <a href='vscode-notebook-cell:/Users/rky/Documents/GitHub/Machine-Learning/1-DQN/DQN.ipynb#ch0000022?line=3'>4</a>\u001b[0m     e2_params \u001b[39m=\u001b[39m [t \u001b[39mfor\u001b[39;00m t \u001b[39min\u001b[39;00m tf\u001b[39m.\u001b[39mtrainable_variables() \u001b[39mif\u001b[39;00m t\u001b[39m.\u001b[39mname\u001b[39m.\u001b[39mstartswith(estimator2\u001b[39m.\u001b[39mscope)]\n",
            "\u001b[0;31mAttributeError\u001b[0m: module 'tensorflow' has no attribute 'trainable_variables'"
          ]
        }
      ],
      "source": [
        "\n",
        "with tf.compat.v1.Session() as sess:\n",
        "    sess.run(tf.compat.v1.global_variables_initializer())\n",
        "  \n",
        "    Transition = namedtuple(\"Transition\", [\"state\", \"action\", \"reward\", \"next_state\", \"done\"])\n",
        "\n",
        "\n",
        "    # Used to save the model\n",
        "    checkpoint_dir = os.path.join(\"./\", \"checkpoints\")\n",
        "    checkpoint_path = os.path.join(checkpoint_dir, \"model\")\n",
        "\n",
        "    if not os.path.exists(checkpoint_dir):\n",
        "        os.makedirs(checkpoint_dir)\n",
        "\n",
        "    saver = tf.compat.v1.train.Saver()\n",
        "    # Load a previous checkpoint if we find one\n",
        "    latest_checkpoint = tf.train.latest_checkpoint(checkpoint_dir)\n",
        "\n",
        "    #  Epsilon decay\n",
        "    epsilons = np.linspace(epsilon_start, epsilon_end, epsilon_decay_steps)\n",
        "    \n",
        "    # Policy\n",
        "    policy = make_epsilon_greedy_policy(dqn, len(VALID_ACTIONS))\n",
        "    \n",
        "    epi_reward = []\n",
        "    best_epi_reward = 0\n",
        "    \n",
        "    for i_episode in range(start_i_episode, num_episodes):      \n",
        "        # Reset the environment\n",
        "        state = env.reset()\n",
        "        state = state_processor.process(sess, state)\n",
        "        state = np.stack([state] * 4, axis=2)\n",
        "        loss = None\n",
        "        done = False\n",
        "        r_sum = 0\n",
        "        mean_epi_reward = np.mean(epi_reward)\n",
        "        if best_epi_reward < mean_epi_reward:\n",
        "            best_epi_reward = mean_epi_reward\n",
        "            saver.save(tf.compat.v1.get_default_session(), checkpoint_path)\n",
        "        \n",
        "        len_replay_memory = len(replay_memory)\n",
        "        while not done:\n",
        "            # Get the epsilon for this step\n",
        "            epsilon = epsilons[min(opti_step+1, epsilon_decay_steps-1)]\n",
        "        \n",
        "        \n",
        "            # Update the target network\n",
        "            if opti_step % update_target_estimator_every == 0:\n",
        "                copy_model_parameters(sess, dqn, target_dqn)\n",
        "            \n",
        "            print(\"\\r Epsilon ({}) ReplayMemorySize : ({}) rSum: ({}) best_epi_reward: ({}) OptiStep ({}) @ Episode {}/{}, loss: {}\".format(epsilon, len_replay_memory, mean_epi_reward, best_epi_reward, opti_step, i_episode + 1, num_episodes, loss), end=\"\")\n",
        "            sys.stdout.flush()\n",
        "            \n",
        "            \n",
        "            #  Select an action with eps-greedy\n",
        "            action_probs = policy(sess, state, epsilon)\n",
        "            action = np.random.choice(np.arange(len(action_probs)), p=action_probs)\n",
        "\n",
        "            # Step in the env with this action\n",
        "            next_state, reward, done, _ = env.step(VALID_ACTIONS[action])\n",
        "            r_sum += reward\n",
        "            \n",
        "            # Add this action to the stack of images\n",
        "            next_state = state_processor.process(sess, next_state)\n",
        "            next_state = np.append(state[:,:,1:], np.expand_dims(next_state, 2), axis=2)\n",
        "            \n",
        "            # If our replay memory is full, pop the first element\n",
        "            if len(replay_memory) == replay_memory_size:\n",
        "                replay_memory.pop(0)\n",
        "            \n",
        "            \n",
        "            # Save transition to replay memory\n",
        "            replay_memory.append(Transition(state, action, reward, next_state, done))\n",
        "            \n",
        "            if len_replay_memory > replay_memory_init_size:\n",
        "                # Sample a minibatch from the replay memory\n",
        "                samples = random.sample(replay_memory, batch_size)                \n",
        "                states_batch, action_batch, reward_batch, next_states_batch, done_batch = map(np.array, zip(*samples))\n",
        "            \n",
        "                # We compute the next q value with                \n",
        "                q_values_next_target = target_dqn.predict(sess, next_states_batch)\n",
        "                t_best_actions = np.argmax(q_values_next_target, axis=1)\n",
        "                targets_batch = reward_batch + np.invert(done_batch).astype(np.float32) * discount_factor * q_values_next_target[np.arange(batch_size), t_best_actions]\n",
        "                \n",
        "                # Perform gradient descent update\n",
        "                states_batch = np.array(states_batch)\n",
        "                loss = dqn.update(sess, states_batch, action_batch, targets_batch)\n",
        "                \n",
        "                opti_step += 1\n",
        "                \n",
        "            state = next_state\n",
        "            if done:\n",
        "              break\n",
        "\n",
        "        epi_reward.append(r_sum)\n",
        "        if len(epi_reward) > 100:\n",
        "            epi_reward = epi_reward[1:]"
      ]
    },
    {
      "cell_type": "code",
      "execution_count": null,
      "metadata": {
        "colab": {
          "base_uri": "https://localhost:8080/",
          "height": 34
        },
        "id": "LcOS-mRW8pt6",
        "outputId": "00b6a526-16e2-4dc5-b1e0-ac32f119091a"
      },
      "outputs": [],
      "source": [
        "import os\n",
        "print(os.listdir(\"./checkpoints\"))"
      ]
    },
    {
      "cell_type": "code",
      "execution_count": null,
      "metadata": {
        "colab": {
          "base_uri": "https://localhost:8080/",
          "height": 105
        },
        "id": "AZafgTlKInZE",
        "outputId": "22d7765e-4a9a-45bc-ebe0-fecaed760784"
      },
      "outputs": [],
      "source": [
        "from google.colab import files\n",
        "import time\n",
        "\n",
        "print(os.listdir(\"./checkpoints\"))\n",
        "\n",
        "for filename in os.listdir(\"./checkpoints\"):\n",
        "  print(\"Download\", filename)\n",
        "  files.download(os.path.join(\"./checkpoints\", filename))"
      ]
    }
  ],
  "metadata": {
    "accelerator": "TPU",
    "colab": {
      "name": "DQN.ipynb",
      "provenance": []
    },
    "kernelspec": {
      "display_name": "Python 3.10.4 ('game_env')",
      "language": "python",
      "name": "python3"
    },
    "language_info": {
      "codemirror_mode": {
        "name": "ipython",
        "version": 3
      },
      "file_extension": ".py",
      "mimetype": "text/x-python",
      "name": "python",
      "nbconvert_exporter": "python",
      "pygments_lexer": "ipython3",
      "version": "3.10.6"
    },
    "vscode": {
      "interpreter": {
        "hash": "bc6c2409e22df4b6dc6c42eb7addfe820be784db604d44dacc946a75b91b0504"
      }
    }
  },
  "nbformat": 4,
  "nbformat_minor": 0
}
