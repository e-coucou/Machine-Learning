{
 "cells": [
  {
   "cell_type": "code",
   "execution_count": 3,
   "metadata": {},
   "outputs": [],
   "source": [
    "import sys\n",
    "sys.path.append('..')\n",
    "\n",
    "import ep.etools as apt\n",
    "\n",
    "import numpy as np\n",
    "import sys\n",
    "\n",
    "from skimage import io\n",
    "from skimage.util import random_noise\n",
    "\n",
    "\n",
    "# import modules.MNIST\n",
    "# from modules.MNIST import MNIST\n",
    "\n",
    "import tensorflow.keras.datasets.mnist as mnist\n"
   ]
  },
  {
   "cell_type": "code",
   "execution_count": null,
   "metadata": {},
   "outputs": [],
   "source": []
  }
 ],
 "metadata": {
  "interpreter": {
   "hash": "d1b37b93ad5083dc6db98381450eff98e17dad3318d070efbb01c491a0f5bd53"
  },
  "kernelspec": {
   "display_name": "Python 3.9.12",
   "language": "python",
   "name": "python3"
  },
  "language_info": {
   "codemirror_mode": {
    "name": "ipython",
    "version": 3
   },
   "file_extension": ".py",
   "mimetype": "text/x-python",
   "name": "python",
   "nbconvert_exporter": "python",
   "pygments_lexer": "ipython3",
   "version": "3.9.12"
  },
  "orig_nbformat": 4
 },
 "nbformat": 4,
 "nbformat_minor": 2
}
