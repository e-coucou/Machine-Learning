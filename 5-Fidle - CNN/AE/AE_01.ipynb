{
 "cells": [
  {
   "cell_type": "code",
   "execution_count": 3,
   "metadata": {},
   "outputs": [],
   "source": [
    "import sys\n",
    "sys.path.append('..')\n",
    "\n",
    "import ep.etools as apt\n",
    "\n",
    "import numpy as np\n",
    "import sys\n",
    "\n",
    "from skimage import io\n",
    "from skimage.util import random_noise\n",
    "\n",
    "\n",
    "# import modules.MNIST\n",
    "# from modules.MNIST import MNIST\n",
    "\n",
    "import tensorflow.keras.datasets.mnist as mnist\n"
   ]
  },
  {
   "cell_type": "code",
   "execution_count": null,
   "metadata": {},
   "outputs": [],
   "source": []
  }
 ],
 "metadata": {
  "kernelspec": {
   "display_name": "Python 3.10.4 ('tf-env')",
   "language": "python",
   "name": "python3"
  },
  "language_info": {
   "codemirror_mode": {
    "name": "ipython",
    "version": 3
   },
   "file_extension": ".py",
   "mimetype": "text/x-python",
   "name": "python",
   "nbconvert_exporter": "python",
   "pygments_lexer": "ipython3",
   "version": "3.10.4"
  },
  "orig_nbformat": 4,
  "vscode": {
   "interpreter": {
    "hash": "e89a84a97d954d4f4e76d44c7710d35d4cbe2473b5328c6fa63074997e3bce18"
   }
  }
 },
 "nbformat": 4,
 "nbformat_minor": 2
}
