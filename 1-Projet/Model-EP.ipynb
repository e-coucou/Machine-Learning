{
 "cells": [
  {
   "cell_type": "code",
   "execution_count": 1,
   "metadata": {},
   "outputs": [],
   "source": [
    "from keras import Sequential, Model\n",
    "import numpy as np\n",
    "from keras import Input\n",
    "from keras import layers\n",
    "from tensorflow.keras.optimizers import RMSprop\n",
    "\n",
    "import sys\n",
    "sys.path.append('..')\n",
    "\n",
    "import ep.etools as apt\n"
   ]
  },
  {
   "cell_type": "code",
   "execution_count": 2,
   "metadata": {},
   "outputs": [],
   "source": [
    "# import des données financières de Yahoo\n",
    "import yfinance as yf\n",
    "etf = ['BZ=F','EURUSD=X']\n",
    "data = yf.Ticker(etf[0])"
   ]
  },
  {
   "cell_type": "code",
   "execution_count": 3,
   "metadata": {},
   "outputs": [],
   "source": [
    "dataH = data.history(start='2007-01-01',period='1d')\n",
    "# dataH"
   ]
  },
  {
   "cell_type": "code",
   "execution_count": 4,
   "metadata": {},
   "outputs": [
    {
     "name": "stdout",
     "output_type": "stream",
     "text": [
      "[*********************100%***********************]  2 of 2 completed\n"
     ]
    },
    {
     "data": {
      "text/html": [
       "<div>\n",
       "<style scoped>\n",
       "    .dataframe tbody tr th:only-of-type {\n",
       "        vertical-align: middle;\n",
       "    }\n",
       "\n",
       "    .dataframe tbody tr th {\n",
       "        vertical-align: top;\n",
       "    }\n",
       "\n",
       "    .dataframe thead tr th {\n",
       "        text-align: left;\n",
       "    }\n",
       "</style>\n",
       "<table border=\"1\" class=\"dataframe\">\n",
       "  <thead>\n",
       "    <tr>\n",
       "      <th></th>\n",
       "      <th colspan=\"2\" halign=\"left\">Adj Close</th>\n",
       "      <th colspan=\"2\" halign=\"left\">Close</th>\n",
       "      <th colspan=\"2\" halign=\"left\">High</th>\n",
       "      <th colspan=\"2\" halign=\"left\">Low</th>\n",
       "      <th colspan=\"2\" halign=\"left\">Open</th>\n",
       "      <th colspan=\"2\" halign=\"left\">Volume</th>\n",
       "    </tr>\n",
       "    <tr>\n",
       "      <th></th>\n",
       "      <th>BZ=F</th>\n",
       "      <th>EURUSD=X</th>\n",
       "      <th>BZ=F</th>\n",
       "      <th>EURUSD=X</th>\n",
       "      <th>BZ=F</th>\n",
       "      <th>EURUSD=X</th>\n",
       "      <th>BZ=F</th>\n",
       "      <th>EURUSD=X</th>\n",
       "      <th>BZ=F</th>\n",
       "      <th>EURUSD=X</th>\n",
       "      <th>BZ=F</th>\n",
       "      <th>EURUSD=X</th>\n",
       "    </tr>\n",
       "  </thead>\n",
       "  <tbody>\n",
       "    <tr>\n",
       "      <th>count</th>\n",
       "      <td>3320.000000</td>\n",
       "      <td>3493.000000</td>\n",
       "      <td>3320.000000</td>\n",
       "      <td>3493.000000</td>\n",
       "      <td>3320.000000</td>\n",
       "      <td>3493.000000</td>\n",
       "      <td>3320.000000</td>\n",
       "      <td>3493.000000</td>\n",
       "      <td>3320.000000</td>\n",
       "      <td>3493.000000</td>\n",
       "      <td>3320.000000</td>\n",
       "      <td>3493.0</td>\n",
       "    </tr>\n",
       "    <tr>\n",
       "      <th>mean</th>\n",
       "      <td>75.820801</td>\n",
       "      <td>1.229171</td>\n",
       "      <td>75.820801</td>\n",
       "      <td>1.229171</td>\n",
       "      <td>76.668379</td>\n",
       "      <td>1.233548</td>\n",
       "      <td>74.898506</td>\n",
       "      <td>1.224598</td>\n",
       "      <td>75.799133</td>\n",
       "      <td>1.229201</td>\n",
       "      <td>17896.688855</td>\n",
       "      <td>0.0</td>\n",
       "    </tr>\n",
       "    <tr>\n",
       "      <th>std</th>\n",
       "      <td>25.389233</td>\n",
       "      <td>0.116042</td>\n",
       "      <td>25.389233</td>\n",
       "      <td>0.116042</td>\n",
       "      <td>25.407977</td>\n",
       "      <td>0.116759</td>\n",
       "      <td>25.321962</td>\n",
       "      <td>0.115607</td>\n",
       "      <td>25.365659</td>\n",
       "      <td>0.116129</td>\n",
       "      <td>16685.746123</td>\n",
       "      <td>0.0</td>\n",
       "    </tr>\n",
       "    <tr>\n",
       "      <th>min</th>\n",
       "      <td>19.330000</td>\n",
       "      <td>1.037958</td>\n",
       "      <td>19.330000</td>\n",
       "      <td>1.037958</td>\n",
       "      <td>21.270000</td>\n",
       "      <td>1.041938</td>\n",
       "      <td>16.000000</td>\n",
       "      <td>0.760572</td>\n",
       "      <td>19.559999</td>\n",
       "      <td>1.037958</td>\n",
       "      <td>0.000000</td>\n",
       "      <td>0.0</td>\n",
       "    </tr>\n",
       "    <tr>\n",
       "      <th>25%</th>\n",
       "      <td>55.342499</td>\n",
       "      <td>1.125404</td>\n",
       "      <td>55.342499</td>\n",
       "      <td>1.125404</td>\n",
       "      <td>56.067500</td>\n",
       "      <td>1.129801</td>\n",
       "      <td>54.679999</td>\n",
       "      <td>1.122057</td>\n",
       "      <td>55.369999</td>\n",
       "      <td>1.125467</td>\n",
       "      <td>948.750000</td>\n",
       "      <td>0.0</td>\n",
       "    </tr>\n",
       "    <tr>\n",
       "      <th>50%</th>\n",
       "      <td>71.605000</td>\n",
       "      <td>1.203239</td>\n",
       "      <td>71.605000</td>\n",
       "      <td>1.203239</td>\n",
       "      <td>72.420002</td>\n",
       "      <td>1.207001</td>\n",
       "      <td>70.670002</td>\n",
       "      <td>1.199904</td>\n",
       "      <td>71.580002</td>\n",
       "      <td>1.203254</td>\n",
       "      <td>16651.000000</td>\n",
       "      <td>0.0</td>\n",
       "    </tr>\n",
       "    <tr>\n",
       "      <th>75%</th>\n",
       "      <td>103.365000</td>\n",
       "      <td>1.328745</td>\n",
       "      <td>103.365000</td>\n",
       "      <td>1.328745</td>\n",
       "      <td>104.265001</td>\n",
       "      <td>1.334205</td>\n",
       "      <td>102.262501</td>\n",
       "      <td>1.323592</td>\n",
       "      <td>103.315002</td>\n",
       "      <td>1.328745</td>\n",
       "      <td>30898.750000</td>\n",
       "      <td>0.0</td>\n",
       "    </tr>\n",
       "    <tr>\n",
       "      <th>max</th>\n",
       "      <td>127.980003</td>\n",
       "      <td>1.512791</td>\n",
       "      <td>127.980003</td>\n",
       "      <td>1.512791</td>\n",
       "      <td>137.000000</td>\n",
       "      <td>1.514532</td>\n",
       "      <td>125.300003</td>\n",
       "      <td>1.504099</td>\n",
       "      <td>129.570007</td>\n",
       "      <td>1.512608</td>\n",
       "      <td>87185.000000</td>\n",
       "      <td>0.0</td>\n",
       "    </tr>\n",
       "  </tbody>\n",
       "</table>\n",
       "</div>"
      ],
      "text/plain": [
       "         Adj Close                     Close                      High  \\\n",
       "              BZ=F     EURUSD=X         BZ=F     EURUSD=X         BZ=F   \n",
       "count  3320.000000  3493.000000  3320.000000  3493.000000  3320.000000   \n",
       "mean     75.820801     1.229171    75.820801     1.229171    76.668379   \n",
       "std      25.389233     0.116042    25.389233     0.116042    25.407977   \n",
       "min      19.330000     1.037958    19.330000     1.037958    21.270000   \n",
       "25%      55.342499     1.125404    55.342499     1.125404    56.067500   \n",
       "50%      71.605000     1.203239    71.605000     1.203239    72.420002   \n",
       "75%     103.365000     1.328745   103.365000     1.328745   104.265001   \n",
       "max     127.980003     1.512791   127.980003     1.512791   137.000000   \n",
       "\n",
       "                            Low                      Open               \\\n",
       "          EURUSD=X         BZ=F     EURUSD=X         BZ=F     EURUSD=X   \n",
       "count  3493.000000  3320.000000  3493.000000  3320.000000  3493.000000   \n",
       "mean      1.233548    74.898506     1.224598    75.799133     1.229201   \n",
       "std       0.116759    25.321962     0.115607    25.365659     0.116129   \n",
       "min       1.041938    16.000000     0.760572    19.559999     1.037958   \n",
       "25%       1.129801    54.679999     1.122057    55.369999     1.125467   \n",
       "50%       1.207001    70.670002     1.199904    71.580002     1.203254   \n",
       "75%       1.334205   102.262501     1.323592   103.315002     1.328745   \n",
       "max       1.514532   125.300003     1.504099   129.570007     1.512608   \n",
       "\n",
       "             Volume           \n",
       "               BZ=F EURUSD=X  \n",
       "count   3320.000000   3493.0  \n",
       "mean   17896.688855      0.0  \n",
       "std    16685.746123      0.0  \n",
       "min        0.000000      0.0  \n",
       "25%      948.750000      0.0  \n",
       "50%    16651.000000      0.0  \n",
       "75%    30898.750000      0.0  \n",
       "max    87185.000000      0.0  "
      ]
     },
     "execution_count": 4,
     "metadata": {},
     "output_type": "execute_result"
    }
   ],
   "source": [
    "it = yf.download(tickers=etf, period='1d',start='2009-01-01')\n",
    "it.describe()"
   ]
  },
  {
   "cell_type": "code",
   "execution_count": 5,
   "metadata": {},
   "outputs": [
    {
     "name": "stdout",
     "output_type": "stream",
     "text": [
      "[('Close', 'BZ=F'), ('Close', 'EURUSD=X')]\n"
     ]
    },
    {
     "data": {
      "text/html": [
       "<div>\n",
       "<style scoped>\n",
       "    .dataframe tbody tr th:only-of-type {\n",
       "        vertical-align: middle;\n",
       "    }\n",
       "\n",
       "    .dataframe tbody tr th {\n",
       "        vertical-align: top;\n",
       "    }\n",
       "\n",
       "    .dataframe thead th {\n",
       "        text-align: right;\n",
       "    }\n",
       "</style>\n",
       "<table border=\"1\" class=\"dataframe\">\n",
       "  <thead>\n",
       "    <tr style=\"text-align: right;\">\n",
       "      <th></th>\n",
       "      <th>brent</th>\n",
       "      <th>FX</th>\n",
       "    </tr>\n",
       "  </thead>\n",
       "  <tbody>\n",
       "    <tr>\n",
       "      <th>count</th>\n",
       "      <td>3320.000000</td>\n",
       "      <td>3493.000000</td>\n",
       "    </tr>\n",
       "    <tr>\n",
       "      <th>mean</th>\n",
       "      <td>75.820801</td>\n",
       "      <td>1.229171</td>\n",
       "    </tr>\n",
       "    <tr>\n",
       "      <th>std</th>\n",
       "      <td>25.389233</td>\n",
       "      <td>0.116042</td>\n",
       "    </tr>\n",
       "    <tr>\n",
       "      <th>min</th>\n",
       "      <td>19.330000</td>\n",
       "      <td>1.037958</td>\n",
       "    </tr>\n",
       "    <tr>\n",
       "      <th>25%</th>\n",
       "      <td>55.342499</td>\n",
       "      <td>1.125404</td>\n",
       "    </tr>\n",
       "    <tr>\n",
       "      <th>50%</th>\n",
       "      <td>71.605000</td>\n",
       "      <td>1.203239</td>\n",
       "    </tr>\n",
       "    <tr>\n",
       "      <th>75%</th>\n",
       "      <td>103.365000</td>\n",
       "      <td>1.328745</td>\n",
       "    </tr>\n",
       "    <tr>\n",
       "      <th>max</th>\n",
       "      <td>127.980003</td>\n",
       "      <td>1.512791</td>\n",
       "    </tr>\n",
       "  </tbody>\n",
       "</table>\n",
       "</div>"
      ],
      "text/plain": [
       "             brent           FX\n",
       "count  3320.000000  3493.000000\n",
       "mean     75.820801     1.229171\n",
       "std      25.389233     0.116042\n",
       "min      19.330000     1.037958\n",
       "25%      55.342499     1.125404\n",
       "50%      71.605000     1.203239\n",
       "75%     103.365000     1.328745\n",
       "max     127.980003     1.512791"
      ]
     },
     "execution_count": 5,
     "metadata": {},
     "output_type": "execute_result"
    }
   ],
   "source": [
    "# supprime colonnes inutiles\n",
    "it.drop(['High','Low','Open','Volume','Adj Close'],axis=1,inplace=True)\n",
    "print(it.columns.to_list())\n",
    "# it.rename(columns='_'.join,inplace=True)\n",
    "it.columns = it.columns.map('_'.join)\n",
    "it.rename(columns={'Close_BZ=F':'brent','Close_EURUSD=X':'FX'},inplace=True)\n",
    "it.describe()"
   ]
  },
  {
   "cell_type": "code",
   "execution_count": 6,
   "metadata": {},
   "outputs": [
    {
     "data": {
      "text/html": [
       "<div>\n",
       "<style scoped>\n",
       "    .dataframe tbody tr th:only-of-type {\n",
       "        vertical-align: middle;\n",
       "    }\n",
       "\n",
       "    .dataframe tbody tr th {\n",
       "        vertical-align: top;\n",
       "    }\n",
       "\n",
       "    .dataframe thead th {\n",
       "        text-align: right;\n",
       "    }\n",
       "</style>\n",
       "<table border=\"1\" class=\"dataframe\">\n",
       "  <thead>\n",
       "    <tr style=\"text-align: right;\">\n",
       "      <th></th>\n",
       "      <th>brent</th>\n",
       "      <th>FX</th>\n",
       "    </tr>\n",
       "  </thead>\n",
       "  <tbody>\n",
       "    <tr>\n",
       "      <th>count</th>\n",
       "      <td>3315.000000</td>\n",
       "      <td>3315.000000</td>\n",
       "    </tr>\n",
       "    <tr>\n",
       "      <th>mean</th>\n",
       "      <td>75.814537</td>\n",
       "      <td>1.227582</td>\n",
       "    </tr>\n",
       "    <tr>\n",
       "      <th>std</th>\n",
       "      <td>25.388360</td>\n",
       "      <td>0.115928</td>\n",
       "    </tr>\n",
       "    <tr>\n",
       "      <th>min</th>\n",
       "      <td>19.330000</td>\n",
       "      <td>1.037958</td>\n",
       "    </tr>\n",
       "    <tr>\n",
       "      <th>25%</th>\n",
       "      <td>55.334999</td>\n",
       "      <td>1.124891</td>\n",
       "    </tr>\n",
       "    <tr>\n",
       "      <th>50%</th>\n",
       "      <td>71.620003</td>\n",
       "      <td>1.195943</td>\n",
       "    </tr>\n",
       "    <tr>\n",
       "      <th>75%</th>\n",
       "      <td>103.305000</td>\n",
       "      <td>1.327616</td>\n",
       "    </tr>\n",
       "    <tr>\n",
       "      <th>max</th>\n",
       "      <td>127.980003</td>\n",
       "      <td>1.512791</td>\n",
       "    </tr>\n",
       "  </tbody>\n",
       "</table>\n",
       "</div>"
      ],
      "text/plain": [
       "             brent           FX\n",
       "count  3315.000000  3315.000000\n",
       "mean     75.814537     1.227582\n",
       "std      25.388360     0.115928\n",
       "min      19.330000     1.037958\n",
       "25%      55.334999     1.124891\n",
       "50%      71.620003     1.195943\n",
       "75%     103.305000     1.327616\n",
       "max     127.980003     1.512791"
      ]
     },
     "execution_count": 6,
     "metadata": {},
     "output_type": "execute_result"
    }
   ],
   "source": [
    "it.dropna(axis=0,inplace=True)\n",
    "it.describe()"
   ]
  },
  {
   "cell_type": "code",
   "execution_count": 7,
   "metadata": {},
   "outputs": [
    {
     "data": {
      "image/png": "[encoded data removed]",
      "text/plain": [
       "<Figure size 1296x720 with 1 Axes>"
      ]
     },
     "metadata": {
      "needs_background": "light"
     },
     "output_type": "display_data"
    }
   ],
   "source": [
    "import matplotlib.pyplot as plt\n",
    "it_plot = it.copy()\n",
    "# normalisation\n",
    "it_mean = it.mean(axis=0)\n",
    "it_std = it.std(axis=0)\n",
    "it_plot = (it_plot - it_mean) /it_std\n",
    "# plot\n",
    "plt.figure(figsize=(18,10))\n",
    "plt.xlabel('Date')\n",
    "plt.ylabel('cours en $')\n",
    "plt.plot(it_plot,label=it_plot.columns.to_list())\n",
    "plt.legend(loc='upper left')\n",
    "plt.show()"
   ]
  },
  {
   "cell_type": "code",
   "execution_count": 8,
   "metadata": {},
   "outputs": [],
   "source": [
    "# parametres\n",
    "scale            = 1        # % du dataset (1=all)\n",
    "train_prop       = .8       # ration du train vs test\n",
    "sequence_len     = 8\n",
    "batch_size       = 32\n",
    "epochs           = 10\n",
    "features         = ['brent','FX']\n",
    "features_len     = len(features)"
   ]
  },
  {
   "cell_type": "code",
   "execution_count": 9,
   "metadata": {},
   "outputs": [
    {
     "name": "stdout",
     "output_type": "stream",
     "text": [
      "           Date       brent        FX\n",
      "0    2008-12-31   45.590000  1.397995\n",
      "1    2009-01-02   46.910000  1.392292\n",
      "2    2009-01-05   49.619999  1.364592\n",
      "3    2009-01-06   50.529999  1.351004\n",
      "4    2009-01-07   45.860001  1.361100\n",
      "...         ...         ...       ...\n",
      "3310 2022-05-23  113.419998  1.056982\n",
      "3311 2022-05-24  113.559998  1.068205\n",
      "3312 2022-05-25  114.029999  1.073653\n",
      "3313 2022-05-26  117.400002  1.068661\n",
      "3314 2022-05-27  119.250000  1.073295\n",
      "\n",
      "[3315 rows x 3 columns]\n"
     ]
    },
    {
     "data": {
      "text/markdown": [
       "<br>**Train dataset :**"
      ],
      "text/plain": [
       "<IPython.core.display.Markdown object>"
      ]
     },
     "metadata": {},
     "output_type": "display_data"
    },
    {
     "data": {
      "text/html": [
       "<div>\n",
       "<style scoped>\n",
       "    .dataframe tbody tr th:only-of-type {\n",
       "        vertical-align: middle;\n",
       "    }\n",
       "\n",
       "    .dataframe tbody tr th {\n",
       "        vertical-align: top;\n",
       "    }\n",
       "\n",
       "    .dataframe thead th {\n",
       "        text-align: right;\n",
       "    }\n",
       "</style>\n",
       "<table border=\"1\" class=\"dataframe\">\n",
       "  <thead>\n",
       "    <tr style=\"text-align: right;\">\n",
       "      <th></th>\n",
       "      <th>brent</th>\n",
       "      <th>FX</th>\n",
       "    </tr>\n",
       "  </thead>\n",
       "  <tbody>\n",
       "    <tr>\n",
       "      <th>0</th>\n",
       "      <td>45.590000</td>\n",
       "      <td>1.397995</td>\n",
       "    </tr>\n",
       "    <tr>\n",
       "      <th>1</th>\n",
       "      <td>46.910000</td>\n",
       "      <td>1.392292</td>\n",
       "    </tr>\n",
       "    <tr>\n",
       "      <th>2</th>\n",
       "      <td>49.619999</td>\n",
       "      <td>1.364592</td>\n",
       "    </tr>\n",
       "    <tr>\n",
       "      <th>3</th>\n",
       "      <td>50.529999</td>\n",
       "      <td>1.351004</td>\n",
       "    </tr>\n",
       "    <tr>\n",
       "      <th>4</th>\n",
       "      <td>45.860001</td>\n",
       "      <td>1.361100</td>\n",
       "    </tr>\n",
       "    <tr>\n",
       "      <th>5</th>\n",
       "      <td>44.669998</td>\n",
       "      <td>1.369901</td>\n",
       "    </tr>\n",
       "    <tr>\n",
       "      <th>6</th>\n",
       "      <td>44.419998</td>\n",
       "      <td>1.345497</td>\n",
       "    </tr>\n",
       "    <tr>\n",
       "      <th>7</th>\n",
       "      <td>42.910000</td>\n",
       "      <td>1.336005</td>\n",
       "    </tr>\n",
       "    <tr>\n",
       "      <th>8</th>\n",
       "      <td>44.830002</td>\n",
       "      <td>1.320202</td>\n",
       "    </tr>\n",
       "    <tr>\n",
       "      <th>9</th>\n",
       "      <td>45.080002</td>\n",
       "      <td>1.321702</td>\n",
       "    </tr>\n",
       "    <tr>\n",
       "      <th>10</th>\n",
       "      <td>46.570000</td>\n",
       "      <td>1.329204</td>\n",
       "    </tr>\n",
       "    <tr>\n",
       "      <th>11</th>\n",
       "      <td>43.619999</td>\n",
       "      <td>1.288494</td>\n",
       "    </tr>\n",
       "    <tr>\n",
       "      <th>12</th>\n",
       "      <td>45.020000</td>\n",
       "      <td>1.300508</td>\n",
       "    </tr>\n",
       "    <tr>\n",
       "      <th>13</th>\n",
       "      <td>45.389999</td>\n",
       "      <td>1.300678</td>\n",
       "    </tr>\n",
       "    <tr>\n",
       "      <th>14</th>\n",
       "      <td>48.369999</td>\n",
       "      <td>1.296496</td>\n",
       "    </tr>\n",
       "  </tbody>\n",
       "</table>\n",
       "</div>"
      ],
      "text/plain": [
       "        brent        FX\n",
       "0   45.590000  1.397995\n",
       "1   46.910000  1.392292\n",
       "2   49.619999  1.364592\n",
       "3   50.529999  1.351004\n",
       "4   45.860001  1.361100\n",
       "5   44.669998  1.369901\n",
       "6   44.419998  1.345497\n",
       "7   42.910000  1.336005\n",
       "8   44.830002  1.320202\n",
       "9   45.080002  1.321702\n",
       "10  46.570000  1.329204\n",
       "11  43.619999  1.288494\n",
       "12  45.020000  1.300508\n",
       "13  45.389999  1.300678\n",
       "14  48.369999  1.296496"
      ]
     },
     "metadata": {},
     "output_type": "display_data"
    },
    {
     "data": {
      "text/markdown": [
       "<br>**Après normalisation :**"
      ],
      "text/plain": [
       "<IPython.core.display.Markdown object>"
      ]
     },
     "metadata": {},
     "output_type": "display_data"
    },
    {
     "data": {
      "text/html": [
       "<style type=\"text/css\">\n",
       "</style>\n",
       "<table id=\"T_61ac9\">\n",
       "  <thead>\n",
       "    <tr>\n",
       "      <th class=\"blank level0\" >&nbsp;</th>\n",
       "      <th id=\"T_61ac9_level0_col0\" class=\"col_heading level0 col0\" >brent</th>\n",
       "      <th id=\"T_61ac9_level0_col1\" class=\"col_heading level0 col1\" >FX</th>\n",
       "    </tr>\n",
       "  </thead>\n",
       "  <tbody>\n",
       "    <tr>\n",
       "      <th id=\"T_61ac9_level0_row0\" class=\"row_heading level0 row0\" >count</th>\n",
       "      <td id=\"T_61ac9_row0_col0\" class=\"data row0 col0\" >2652.00</td>\n",
       "      <td id=\"T_61ac9_row0_col1\" class=\"data row0 col1\" >2652.00</td>\n",
       "    </tr>\n",
       "    <tr>\n",
       "      <th id=\"T_61ac9_level0_row1\" class=\"row_heading level0 row1\" >mean</th>\n",
       "      <td id=\"T_61ac9_row1_col0\" class=\"data row1 col0\" >0.00</td>\n",
       "      <td id=\"T_61ac9_row1_col1\" class=\"data row1 col1\" >0.00</td>\n",
       "    </tr>\n",
       "    <tr>\n",
       "      <th id=\"T_61ac9_level0_row2\" class=\"row_heading level0 row2\" >std</th>\n",
       "      <td id=\"T_61ac9_row2_col0\" class=\"data row2 col0\" >1.00</td>\n",
       "      <td id=\"T_61ac9_row2_col1\" class=\"data row2 col1\" >1.00</td>\n",
       "    </tr>\n",
       "    <tr>\n",
       "      <th id=\"T_61ac9_level0_row3\" class=\"row_heading level0 row3\" >min</th>\n",
       "      <td id=\"T_61ac9_row3_col0\" class=\"data row3 col0\" >-2.00</td>\n",
       "      <td id=\"T_61ac9_row3_col1\" class=\"data row3 col1\" >-1.74</td>\n",
       "    </tr>\n",
       "    <tr>\n",
       "      <th id=\"T_61ac9_level0_row4\" class=\"row_heading level0 row4\" >25%</th>\n",
       "      <td id=\"T_61ac9_row4_col0\" class=\"data row4 col0\" >-0.88</td>\n",
       "      <td id=\"T_61ac9_row4_col1\" class=\"data row4 col1\" >-0.97</td>\n",
       "    </tr>\n",
       "    <tr>\n",
       "      <th id=\"T_61ac9_level0_row5\" class=\"row_heading level0 row5\" >50%</th>\n",
       "      <td id=\"T_61ac9_row5_col0\" class=\"data row5 col0\" >-0.17</td>\n",
       "      <td id=\"T_61ac9_row5_col1\" class=\"data row5 col1\" >0.06</td>\n",
       "    </tr>\n",
       "    <tr>\n",
       "      <th id=\"T_61ac9_level0_row6\" class=\"row_heading level0 row6\" >75%</th>\n",
       "      <td id=\"T_61ac9_row6_col0\" class=\"data row6 col0\" >1.12</td>\n",
       "      <td id=\"T_61ac9_row6_col1\" class=\"data row6 col1\" >0.85</td>\n",
       "    </tr>\n",
       "    <tr>\n",
       "      <th id=\"T_61ac9_level0_row7\" class=\"row_heading level0 row7\" >max</th>\n",
       "      <td id=\"T_61ac9_row7_col0\" class=\"data row7 col0\" >1.89</td>\n",
       "      <td id=\"T_61ac9_row7_col1\" class=\"data row7 col1\" >2.22</td>\n",
       "    </tr>\n",
       "  </tbody>\n",
       "</table>\n"
      ],
      "text/plain": [
       "<pandas.io.formats.style.Styler at 0x164503670>"
      ]
     },
     "metadata": {},
     "output_type": "display_data"
    },
    {
     "data": {
      "text/markdown": [
       "<br>**Shapes :**"
      ],
      "text/plain": [
       "<IPython.core.display.Markdown object>"
      ]
     },
     "metadata": {},
     "output_type": "display_data"
    },
    {
     "name": "stdout",
     "output_type": "stream",
     "text": [
      "Dataset       :  (3315, 3)\n",
      "Train dataset :  (2652, 2)\n",
      "Test  dataset :  (663, 2)\n"
     ]
    }
   ],
   "source": [
    "# Mise à l'échelle du dataFrame\n",
    "\n",
    "df = it[:int(scale*len(it))].reset_index()\n",
    "train_len=int(train_prop*len(df))\n",
    "\n",
    "print(df)\n",
    "\n",
    "# ---- Train / Test\n",
    "dataset_train = df.loc[ :train_len-1, features ]\n",
    "dataset_test  = df.loc[train_len:,    features ]\n",
    "apt.subtitle('Train dataset :')\n",
    "display(dataset_train.head(15))\n",
    "\n",
    "# ---- Normalize, and convert to numpy array\n",
    "\n",
    "mean = dataset_train.mean()\n",
    "std  = dataset_train.std()\n",
    "dataset_train = (dataset_train - mean) / std\n",
    "dataset_test  = (dataset_test  - mean) / std\n",
    "\n",
    "apt.subtitle('Après normalisation :')\n",
    "display(dataset_train.describe().style.format(\"{0:.2f}\"))\n",
    "\n",
    "dataset_train = dataset_train.to_numpy()\n",
    "dataset_test  = dataset_test.to_numpy()\n",
    "\n",
    "apt.subtitle('Shapes :')\n",
    "print('Dataset       : ',df.shape)\n",
    "print('Train dataset : ',dataset_train.shape)\n",
    "print('Test  dataset : ',dataset_test.shape)"
   ]
  },
  {
   "cell_type": "code",
   "execution_count": 10,
   "metadata": {},
   "outputs": [],
   "source": [
    "import tensorflow as tf\n",
    "from tensorflow import keras\n",
    "from tensorflow.keras.callbacks import TensorBoard\n",
    "from tensorflow.keras.preprocessing.sequence import TimeseriesGenerator"
   ]
  },
  {
   "cell_type": "code",
   "execution_count": 11,
   "metadata": {},
   "outputs": [
    {
     "data": {
      "text/markdown": [
       "<br>**About the splitting of our dataset :**"
      ],
      "text/plain": [
       "<IPython.core.display.Markdown object>"
      ]
     },
     "metadata": {},
     "output_type": "display_data"
    },
    {
     "name": "stdout",
     "output_type": "stream",
     "text": [
      "Nombre de train batchs disponibles :  83\n",
      "batch x shape :  (32, 8, 2)\n",
      "batch y shape :  (32, 2)\n"
     ]
    },
    {
     "data": {
      "text/markdown": [
       "<br>**What a batch looks like (x[0]) :**"
      ],
      "text/plain": [
       "<IPython.core.display.Markdown object>"
      ]
     },
     "metadata": {},
     "output_type": "display_data"
    },
    {
     "name": "stdout",
     "output_type": "stream",
     "text": [
      "[[-1.304  1.259]\n",
      " [-1.252  1.212]\n",
      " [-1.145  0.98 ]\n",
      " [-1.109  0.866]\n",
      " [-1.294  0.951]\n",
      " [-1.341  1.024]\n",
      " [-1.35   0.82 ]\n",
      " [-1.41   0.741]]\n"
     ]
    },
    {
     "data": {
      "text/markdown": [
       "<br>**What a batch looks like (y[0]) :**"
      ],
      "text/plain": [
       "<IPython.core.display.Markdown object>"
      ]
     },
     "metadata": {},
     "output_type": "display_data"
    },
    {
     "name": "stdout",
     "output_type": "stream",
     "text": [
      "[-1.334  0.609]\n"
     ]
    }
   ],
   "source": [
    "# ---- Train generator\n",
    "\n",
    "train_generator = TimeseriesGenerator(dataset_train, dataset_train, length=sequence_len,  batch_size=batch_size)\n",
    "test_generator  = TimeseriesGenerator(dataset_test,  dataset_test,  length=sequence_len,  batch_size=batch_size)\n",
    "\n",
    "# ---- About\n",
    "\n",
    "apt.subtitle('About the splitting of our dataset :')\n",
    "\n",
    "x,y=train_generator[0]\n",
    "print(f'Nombre de train batchs disponibles : ', len(train_generator))\n",
    "print('batch x shape : ',x.shape)\n",
    "print('batch y shape : ',y.shape)\n",
    "\n",
    "x,y=train_generator[0]\n",
    "apt.subtitle('What a batch looks like (x[0]) :')\n",
    "apt.np_print(x[0] )\n",
    "apt.subtitle('What a batch looks like (y[0]) :')\n",
    "apt.np_print(y[0])"
   ]
  },
  {
   "cell_type": "code",
   "execution_count": 12,
   "metadata": {},
   "outputs": [],
   "source": [
    "# tf.config.get_visible_devices()\n",
    "# tf.config.PhysicalDevice('CPU:0','CPU')"
   ]
  },
  {
   "cell_type": "code",
   "execution_count": 13,
   "metadata": {},
   "outputs": [
    {
     "name": "stdout",
     "output_type": "stream",
     "text": [
      "2.7.0\n"
     ]
    }
   ],
   "source": [
    "print(tf.__version__)"
   ]
  },
  {
   "cell_type": "code",
   "execution_count": 14,
   "metadata": {},
   "outputs": [],
   "source": [
    "run_dir = './run/'\n",
    "save_dir = f'{run_dir}/best_model.h5'\n",
    "bestmodel_callback = tf.keras.callbacks.ModelCheckpoint(filepath=save_dir, verbose=0, save_best_only=True)"
   ]
  },
  {
   "cell_type": "code",
   "execution_count": 15,
   "metadata": {},
   "outputs": [
    {
     "name": "stdout",
     "output_type": "stream",
     "text": [
      "Model: \"model\"\n",
      "_________________________________________________________________\n",
      " Layer (type)                Output Shape              Param #   \n",
      "=================================================================\n",
      " input_1 (InputLayer)        [(None, 8, 2)]            0         \n",
      "                                                                 \n",
      " gru (GRU)                   (None, 8, 100)            31200     \n",
      "                                                                 \n",
      " gru_1 (GRU)                 (None, 32)                12864     \n",
      "                                                                 \n",
      " dense (Dense)               (None, 32)                1056      \n",
      "                                                                 \n",
      " dense_1 (Dense)             (None, 2)                 66        \n",
      "                                                                 \n",
      "=================================================================\n",
      "Total params: 45,186\n",
      "Trainable params: 45,186\n",
      "Non-trainable params: 0\n",
      "_________________________________________________________________\n"
     ]
    }
   ],
   "source": [
    "# le model Keras\n",
    "input_data = Input(shape=(sequence_len,features_len))\n",
    "x = layers.GRU(100, dropout=0.2,return_sequences=True, recurrent_dropout=0.5)(input_data)\n",
    "# x = layers.LSTM(100, dropout=0.1, recurrent_dropout=0.5, return_sequences=True)(input_data)\n",
    "# x = layers.GRU(32, dropout=0.2,recurrent_dropout=0.5, return_sequences=True)(x)\n",
    "x = layers.GRU(32, dropout=0.2,recurrent_dropout=0.5,activation='relu')(x)\n",
    "x = layers.Dense(32,activation='relu')(x)\n",
    "# x = layers.Dropout(0.2)(x)\n",
    "output_data = layers.Dense(features_len)(x)\n",
    "# with tf.device(\"/cpu:0\"):\n",
    "model = Model(input_data,output_data)\n",
    "    # model.compile(optimizer='rmsprop',loss='categorical_crossentropy',metrics=['mae'])\n",
    "model.compile(optimizer=RMSprop(),loss='mse',metrics=['mae'])\n",
    "model.summary()\n"
   ]
  },
  {
   "cell_type": "code",
   "execution_count": 16,
   "metadata": {},
   "outputs": [],
   "source": [
    "# input_data = Input(shape=(sequence_len,features_len))\n",
    "# x1 = layers.LSTM(100, activation='relu')(input_data)\n",
    "# x2 = layers.Conv1D()(input_data)\n",
    "# x2 = layers.MaxPooling1D()(x2)\n",
    "# x3 = layers.Conv1D()(x2)\n",
    "# x3 = layers.MaxPooling1D()(x3)\n"
   ]
  },
  {
   "cell_type": "code",
   "execution_count": 17,
   "metadata": {},
   "outputs": [
    {
     "name": "stderr",
     "output_type": "stream",
     "text": [
      "2022-05-29 20:09:47.441115: W tensorflow/core/platform/profile_utils/cpu_utils.cc:128] Failed to get CPU frequency: 0 Hz\n"
     ]
    },
    {
     "name": "stdout",
     "output_type": "stream",
     "text": [
      "Epoch 1/10\n",
      " 1/83 [..............................] - ETA: 3:44 - loss: 1.1622 - mae: 1.0589"
     ]
    },
    {
     "ename": "",
     "evalue": "",
     "output_type": "error",
     "traceback": [
      "\u001b[1;31mThe Kernel crashed while executing code in the the current cell or a previous cell. Please review the code in the cell(s) to identify a possible cause of the failure. Click <a href='https://aka.ms/vscodeJupyterKernelCrash'>here</a> for more info. View Jupyter <a href='command:jupyter.viewOutput'>log</a> for further details."
     ]
    },
    {
     "ename": "",
     "evalue": "",
     "output_type": "error",
     "traceback": [
      "\u001b[1;31mCanceled future for execute_request message before replies were done"
     ]
    }
   ],
   "source": [
    "# with tf.device(\"/device:cpu:0\"):\n",
    "history = model.fit(train_generator,epochs=epochs,validation_data=test_generator,verbose=1,use_multiprocessing=True,callbacks = [bestmodel_callback])"
   ]
  },
  {
   "cell_type": "code",
   "execution_count": null,
   "metadata": {},
   "outputs": [],
   "source": [
    "apt.plot_history(history,plot={'loss':['loss','val_loss'], 'mae':['mae','val_mae']}, save_as='01-history')"
   ]
  },
  {
   "cell_type": "code",
   "execution_count": null,
   "metadata": {},
   "outputs": [],
   "source": [
    "best_model = tf.keras.models.load_model(f'{run_dir}/best_model.h5')"
   ]
  },
  {
   "cell_type": "code",
   "execution_count": null,
   "metadata": {},
   "outputs": [],
   "source": [
    "import math,random\n",
    "def denormalize(mean,std,seq):\n",
    "    nseq = seq.copy()\n",
    "    for i,s in enumerate(nseq):\n",
    "        s = s*std + mean\n",
    "        nseq[i]=s\n",
    "    return nseq\n",
    "\n",
    "\n",
    "# ---- Get a sequence\n",
    "\n",
    "i=random.randint(0,len(dataset_test)-sequence_len)\n",
    "j = len(dataset_test)-sequence_len\n",
    "sequence      = dataset_test[i:i+sequence_len]\n",
    "sequence_true = dataset_test[i:i+sequence_len+1]\n",
    "print(sequence_len,i,j,len(dataset_train))\n",
    "\n",
    "# ---- Prediction\n",
    "\n",
    "pred = best_model.predict( np.array([sequence]) )\n",
    "\n",
    "# ---- De-normalization\n",
    "\n",
    "sequence_true = denormalize(mean,std, sequence_true)\n",
    "pred          = denormalize(mean,std, pred)\n",
    "\n",
    "print(pred)\n",
    "# ---- Show it\n",
    "feat=1\n",
    "\n",
    "apt.plot_multivariate_serie(sequence_true, predictions=pred, labels=features, only_features=[feat],width=14, height=8)\n",
    "\n",
    "delta=abs(sequence_true[-1][feat]-pred[-1][feat])\n",
    "print(f'Gap between prediction and reality : {delta:.2f} u')"
   ]
  },
  {
   "cell_type": "code",
   "execution_count": null,
   "metadata": {},
   "outputs": [],
   "source": [
    "feat=0\n",
    "\n",
    "apt.plot_multivariate_serie(sequence_true, predictions=pred, labels=features, only_features=[feat],width=14, height=8)\n",
    "\n",
    "delta=abs(sequence_true[-1][feat]-pred[-1][feat])\n",
    "print(f'Gap between prediction and reality : {delta:.2f} u')"
   ]
  },
  {
   "cell_type": "code",
   "execution_count": null,
   "metadata": {},
   "outputs": [],
   "source": [
    "def get_prediction(dataset, model, iterations=4,sequence_len=16):\n",
    "\n",
    "    # ---- Initial sequence\n",
    "\n",
    "    s=random.randint(0,len(dataset)-sequence_len-iterations)\n",
    "\n",
    "    sequence_pred = dataset[s:s+sequence_len].copy()\n",
    "    sequence_true = dataset[s:s+sequence_len+iterations].copy()\n",
    "\n",
    "    # ---- Iterate\n",
    "\n",
    "    sequence_pred=list(sequence_pred)\n",
    "\n",
    "    for i in range(iterations):\n",
    "        sequence=sequence_pred[-sequence_len:]\n",
    "        pred = model.predict( np.array([sequence]) )\n",
    "        sequence_pred.append(pred[0])\n",
    "\n",
    "    # ---- Extract the predictions    \n",
    "\n",
    "    pred=np.array(sequence_pred[-iterations:])\n",
    "\n",
    "    # ---- De-normalization\n",
    "\n",
    "    sequence_true = denormalize(mean,std, sequence_true)\n",
    "    pred          = denormalize(mean,std, pred)\n",
    "\n",
    "    return sequence_true,pred"
   ]
  },
  {
   "cell_type": "code",
   "execution_count": null,
   "metadata": {},
   "outputs": [],
   "source": [
    "sequence_true, pred = get_prediction(dataset_test, best_model,iterations=5,sequence_len=40)\n",
    "\n",
    "feat=[0,1]\n",
    "\n",
    "apt.plot_multivariate_serie(sequence_true, predictions=pred, labels=features,\n",
    "                            only_features=feat,width=14, height=8)"
   ]
  },
  {
   "cell_type": "code",
   "execution_count": null,
   "metadata": {},
   "outputs": [],
   "source": []
  }
 ],
 "metadata": {
  "interpreter": {
   "hash": "e89a84a97d954d4f4e76d44c7710d35d4cbe2473b5328c6fa63074997e3bce18"
  },
  "kernelspec": {
   "display_name": "Python 3.10.4 ('tf-env')",
   "language": "python",
   "name": "python3"
  },
  "language_info": {
   "codemirror_mode": {
    "name": "ipython",
    "version": 3
   },
   "file_extension": ".py",
   "mimetype": "text/x-python",
   "name": "python",
   "nbconvert_exporter": "python",
   "pygments_lexer": "ipython3",
   "version": "3.10.4"
  },
  "orig_nbformat": 4
 },
 "nbformat": 4,
 "nbformat_minor": 2
}
