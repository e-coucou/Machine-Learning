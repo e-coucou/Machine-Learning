{
 "cells": [
  {
   "cell_type": "code",
   "execution_count": 1,
   "metadata": {},
   "outputs": [],
   "source": [
    "import numpy as np\n",
    "import matplotlib.pyplot as plt\n",
    "# import pandas_datareader as web\n",
    "import math\n",
    "import yfinance as yf\n",
    "import pandas as pd\n",
    "import seaborn as sns"
   ]
  },
  {
   "cell_type": "markdown",
   "metadata": {},
   "source": [
    "# Lecture des informations finance depuis Yahoo"
   ]
  },
  {
   "cell_type": "code",
   "execution_count": 2,
   "metadata": {},
   "outputs": [
    {
     "name": "stdout",
     "output_type": "stream",
     "text": [
      "[*********************100%***********************]  6 of 6 completed"
     ]
    },
    {
     "name": "stderr",
     "output_type": "stream",
     "text": [
      "\n",
      "1 Failed download:\n",
      "['TTFV23.NYM']: Exception('%ticker%: No data found, symbol may be delisted')\n"
     ]
    },
    {
     "name": "stdout",
     "output_type": "stream",
     "text": [
      "\n"
     ]
    }
   ],
   "source": [
    "etf = ['BZ=F','EURUSD=X','TTF=F','TTFX23.NYM','TTFZ23.NYM','TTFV23.NYM']\n",
    "#data = yf.Ticker(etf)\n",
    "#dataH = data.history(start='2007-01-01',period='1d')\n",
    "it = yf.download(tickers=etf, period='1d',start='2012-01-01')\n",
    "it = it.rename(columns = {'TTFU23.NYM':'SEP23', 'TTFX23.NYM':'NOV23','TTFV23.NYM':'OCT23', 'TTFZ23.NYM':'DEC23', 'EURUSD=X':'€/$'})"
   ]
  },
  {
   "cell_type": "markdown",
   "metadata": {},
   "source": [
    "# Lecture des informations de stock de Gaz depuis AGSI\n",
    "* normalisation des données\n",
    "* conversion en float\n",
    "* conversion des dates\n",
    "\n",
    "pour un Pays remplacer \"type\" par \"country\" et mettre en paramètre le code du pays : FR, BE, DE ..."
   ]
  },
  {
   "cell_type": "code",
   "execution_count": 3,
   "metadata": {},
   "outputs": [
    {
     "name": "stdout",
     "output_type": "stream",
     "text": [
      "Done\n"
     ]
    }
   ],
   "source": [
    "import requests\n",
    "params = {\n",
    "    \"type\": \"EU\",\n",
    "    \"from\": \"2012-01-01\",\n",
    "    \"size\": 10000\n",
    "}\n",
    "header = {\n",
    "  \"x-key\" : \"99e18f932d22c9acf9c42f27d0b8b539\" }\n",
    "\n",
    "url = \"https://agsi.gie.eu/api\"\n",
    "resp = requests.get(url=url, params=params, headers=header)\n",
    "json = resp.json()\n",
    "data = pd.json_normalize(json['data'])\n",
    "data[\"gasInStorage\"] = data[\"gasInStorage\"].astype(float)\n",
    "#data[\"coveredCapacity\"] = data[\"coveredCapacity\"].astype(float)\n",
    "pd.to_datetime(data['gasDayStart'], errors='coerce')\n",
    "#data[[\"gasDayStart\",\"gasInStorage\"]]\n",
    "#print(data)\n",
    "print('Done')"
   ]
  },
  {
   "cell_type": "markdown",
   "metadata": {},
   "source": [
    "### Préparation des données (en mois / années)"
   ]
  },
  {
   "cell_type": "code",
   "execution_count": 4,
   "metadata": {},
   "outputs": [
    {
     "data": {
      "text/html": [
       "<div>\n",
       "<style scoped>\n",
       "    .dataframe tbody tr th:only-of-type {\n",
       "        vertical-align: middle;\n",
       "    }\n",
       "\n",
       "    .dataframe tbody tr th {\n",
       "        vertical-align: top;\n",
       "    }\n",
       "\n",
       "    .dataframe thead th {\n",
       "        text-align: right;\n",
       "    }\n",
       "</style>\n",
       "<table border=\"1\" class=\"dataframe\">\n",
       "  <thead>\n",
       "    <tr style=\"text-align: right;\">\n",
       "      <th></th>\n",
       "      <th>gasDayStart</th>\n",
       "      <th>gasInStorage</th>\n",
       "      <th>année</th>\n",
       "      <th>mois</th>\n",
       "    </tr>\n",
       "    <tr>\n",
       "      <th>Date</th>\n",
       "      <th></th>\n",
       "      <th></th>\n",
       "      <th></th>\n",
       "      <th></th>\n",
       "    </tr>\n",
       "  </thead>\n",
       "  <tbody>\n",
       "    <tr>\n",
       "      <th>2022-12-31</th>\n",
       "      <td>2022-12-31</td>\n",
       "      <td>933.3260</td>\n",
       "      <td>2022</td>\n",
       "      <td>12</td>\n",
       "    </tr>\n",
       "    <tr>\n",
       "      <th>2022-12-30</th>\n",
       "      <td>2022-12-30</td>\n",
       "      <td>932.3149</td>\n",
       "      <td>2022</td>\n",
       "      <td>12</td>\n",
       "    </tr>\n",
       "    <tr>\n",
       "      <th>2022-12-29</th>\n",
       "      <td>2022-12-29</td>\n",
       "      <td>931.6991</td>\n",
       "      <td>2022</td>\n",
       "      <td>12</td>\n",
       "    </tr>\n",
       "    <tr>\n",
       "      <th>2022-12-28</th>\n",
       "      <td>2022-12-28</td>\n",
       "      <td>931.3298</td>\n",
       "      <td>2022</td>\n",
       "      <td>12</td>\n",
       "    </tr>\n",
       "    <tr>\n",
       "      <th>2022-12-27</th>\n",
       "      <td>2022-12-27</td>\n",
       "      <td>931.3490</td>\n",
       "      <td>2022</td>\n",
       "      <td>12</td>\n",
       "    </tr>\n",
       "    <tr>\n",
       "      <th>...</th>\n",
       "      <td>...</td>\n",
       "      <td>...</td>\n",
       "      <td>...</td>\n",
       "      <td>...</td>\n",
       "    </tr>\n",
       "    <tr>\n",
       "      <th>2012-01-05</th>\n",
       "      <td>2012-01-05</td>\n",
       "      <td>547.8834</td>\n",
       "      <td>2012</td>\n",
       "      <td>1</td>\n",
       "    </tr>\n",
       "    <tr>\n",
       "      <th>2012-01-04</th>\n",
       "      <td>2012-01-04</td>\n",
       "      <td>550.0136</td>\n",
       "      <td>2012</td>\n",
       "      <td>1</td>\n",
       "    </tr>\n",
       "    <tr>\n",
       "      <th>2012-01-03</th>\n",
       "      <td>2012-01-03</td>\n",
       "      <td>552.2452</td>\n",
       "      <td>2012</td>\n",
       "      <td>1</td>\n",
       "    </tr>\n",
       "    <tr>\n",
       "      <th>2012-01-02</th>\n",
       "      <td>2012-01-02</td>\n",
       "      <td>554.3948</td>\n",
       "      <td>2012</td>\n",
       "      <td>1</td>\n",
       "    </tr>\n",
       "    <tr>\n",
       "      <th>2012-01-01</th>\n",
       "      <td>2012-01-01</td>\n",
       "      <td>554.9859</td>\n",
       "      <td>2012</td>\n",
       "      <td>1</td>\n",
       "    </tr>\n",
       "  </tbody>\n",
       "</table>\n",
       "<p>4018 rows × 4 columns</p>\n",
       "</div>"
      ],
      "text/plain": [
       "           gasDayStart  gasInStorage  année  mois\n",
       "Date                                             \n",
       "2022-12-31  2022-12-31      933.3260   2022    12\n",
       "2022-12-30  2022-12-30      932.3149   2022    12\n",
       "2022-12-29  2022-12-29      931.6991   2022    12\n",
       "2022-12-28  2022-12-28      931.3298   2022    12\n",
       "2022-12-27  2022-12-27      931.3490   2022    12\n",
       "...                ...           ...    ...   ...\n",
       "2012-01-05  2012-01-05      547.8834   2012     1\n",
       "2012-01-04  2012-01-04      550.0136   2012     1\n",
       "2012-01-03  2012-01-03      552.2452   2012     1\n",
       "2012-01-02  2012-01-02      554.3948   2012     1\n",
       "2012-01-01  2012-01-01      554.9859   2012     1\n",
       "\n",
       "[4018 rows x 4 columns]"
      ]
     },
     "execution_count": 4,
     "metadata": {},
     "output_type": "execute_result"
    }
   ],
   "source": [
    "import datetime as dt\n",
    "endData = data[[\"gasDayStart\",\"gasInStorage\"]].copy(deep = True)\n",
    "endData['Date'] = pd.to_datetime(endData['gasDayStart'],format='%Y-%m-%d', errors='coerce',utc=False)\n",
    "endData['année'] = endData['Date'].dt.year\n",
    "endData['mois'] = endData['Date'].dt.month\n",
    "endData.set_index('Date')"
   ]
  },
  {
   "cell_type": "code",
   "execution_count": 5,
   "metadata": {},
   "outputs": [],
   "source": [
    "def filtreAnnee(df, a):\n",
    "    mask_ = (df['année'] == a)\n",
    "    #mask_ = ((fin['mois'] == 2) & (fin['year'] == 2022))\n",
    "    return df.loc[mask_]"
   ]
  },
  {
   "cell_type": "code",
   "execution_count": 6,
   "metadata": {},
   "outputs": [
    {
     "ename": "ValueError",
     "evalue": "You are trying to merge on datetime64[ns] and object columns. If you wish to proceed you should use pd.concat",
     "output_type": "error",
     "traceback": [
      "\u001b[0;31m---------------------------------------------------------------------------\u001b[0m",
      "\u001b[0;31mValueError\u001b[0m                                Traceback (most recent call last)",
      "\u001b[1;32m/Users/rky/Documents/GitHub/Machine-Learning/1-Projet/Achats/Gas-Stock-Corr/ttf-stock-corr.ipynb Cellule 9\u001b[0m line \u001b[0;36m<cell line: 1>\u001b[0;34m()\u001b[0m\n\u001b[0;32m----> <a href='vscode-notebook-cell:/Users/rky/Documents/GitHub/Machine-Learning/1-Projet/Achats/Gas-Stock-Corr/ttf-stock-corr.ipynb#X11sZmlsZQ%3D%3D?line=0'>1</a>\u001b[0m final \u001b[39m=\u001b[39m pd\u001b[39m.\u001b[39;49mmerge(endData, it[\u001b[39m'\u001b[39;49m\u001b[39mClose\u001b[39;49m\u001b[39m'\u001b[39;49m], how\u001b[39m=\u001b[39;49m\u001b[39m'\u001b[39;49m\u001b[39mleft\u001b[39;49m\u001b[39m'\u001b[39;49m, on\u001b[39m=\u001b[39;49m\u001b[39m\"\u001b[39;49m\u001b[39mDate\u001b[39;49m\u001b[39m\"\u001b[39;49m )\n\u001b[1;32m      <a href='vscode-notebook-cell:/Users/rky/Documents/GitHub/Machine-Learning/1-Projet/Achats/Gas-Stock-Corr/ttf-stock-corr.ipynb#X11sZmlsZQ%3D%3D?line=1'>2</a>\u001b[0m fin \u001b[39m=\u001b[39mfinal\u001b[39m.\u001b[39mdropna()\n\u001b[1;32m      <a href='vscode-notebook-cell:/Users/rky/Documents/GitHub/Machine-Learning/1-Projet/Achats/Gas-Stock-Corr/ttf-stock-corr.ipynb#X11sZmlsZQ%3D%3D?line=2'>3</a>\u001b[0m \u001b[39m# mask_ = (fin['année'] == 2023)\u001b[39;00m\n\u001b[1;32m      <a href='vscode-notebook-cell:/Users/rky/Documents/GitHub/Machine-Learning/1-Projet/Achats/Gas-Stock-Corr/ttf-stock-corr.ipynb#X11sZmlsZQ%3D%3D?line=3'>4</a>\u001b[0m \u001b[39m# #mask_ = ((fin['mois'] == 2) & (fin['year'] == 2022))\u001b[39;00m\n\u001b[1;32m      <a href='vscode-notebook-cell:/Users/rky/Documents/GitHub/Machine-Learning/1-Projet/Achats/Gas-Stock-Corr/ttf-stock-corr.ipynb#X11sZmlsZQ%3D%3D?line=4'>5</a>\u001b[0m \u001b[39m# fin_ = fin.loc[mask_]\u001b[39;00m\n",
      "File \u001b[0;32m~/miniforge3/envs/tf-M1/lib/python3.10/site-packages/pandas/core/reshape/merge.py:148\u001b[0m, in \u001b[0;36mmerge\u001b[0;34m(left, right, how, on, left_on, right_on, left_index, right_index, sort, suffixes, copy, indicator, validate)\u001b[0m\n\u001b[1;32m    131\u001b[0m \u001b[39m@Substitution\u001b[39m(\u001b[39m\"\u001b[39m\u001b[39m\\n\u001b[39;00m\u001b[39mleft : DataFrame or named Series\u001b[39m\u001b[39m\"\u001b[39m)\n\u001b[1;32m    132\u001b[0m \u001b[39m@Appender\u001b[39m(_merge_doc, indents\u001b[39m=\u001b[39m\u001b[39m0\u001b[39m)\n\u001b[1;32m    133\u001b[0m \u001b[39mdef\u001b[39;00m \u001b[39mmerge\u001b[39m(\n\u001b[0;32m   (...)\u001b[0m\n\u001b[1;32m    146\u001b[0m     validate: \u001b[39mstr\u001b[39m \u001b[39m|\u001b[39m \u001b[39mNone\u001b[39;00m \u001b[39m=\u001b[39m \u001b[39mNone\u001b[39;00m,\n\u001b[1;32m    147\u001b[0m ) \u001b[39m-\u001b[39m\u001b[39m>\u001b[39m DataFrame:\n\u001b[0;32m--> 148\u001b[0m     op \u001b[39m=\u001b[39m _MergeOperation(\n\u001b[1;32m    149\u001b[0m         left,\n\u001b[1;32m    150\u001b[0m         right,\n\u001b[1;32m    151\u001b[0m         how\u001b[39m=\u001b[39;49mhow,\n\u001b[1;32m    152\u001b[0m         on\u001b[39m=\u001b[39;49mon,\n\u001b[1;32m    153\u001b[0m         left_on\u001b[39m=\u001b[39;49mleft_on,\n\u001b[1;32m    154\u001b[0m         right_on\u001b[39m=\u001b[39;49mright_on,\n\u001b[1;32m    155\u001b[0m         left_index\u001b[39m=\u001b[39;49mleft_index,\n\u001b[1;32m    156\u001b[0m         right_index\u001b[39m=\u001b[39;49mright_index,\n\u001b[1;32m    157\u001b[0m         sort\u001b[39m=\u001b[39;49msort,\n\u001b[1;32m    158\u001b[0m         suffixes\u001b[39m=\u001b[39;49msuffixes,\n\u001b[1;32m    159\u001b[0m         indicator\u001b[39m=\u001b[39;49mindicator,\n\u001b[1;32m    160\u001b[0m         validate\u001b[39m=\u001b[39;49mvalidate,\n\u001b[1;32m    161\u001b[0m     )\n\u001b[1;32m    162\u001b[0m     \u001b[39mreturn\u001b[39;00m op\u001b[39m.\u001b[39mget_result(copy\u001b[39m=\u001b[39mcopy)\n",
      "File \u001b[0;32m~/miniforge3/envs/tf-M1/lib/python3.10/site-packages/pandas/core/reshape/merge.py:741\u001b[0m, in \u001b[0;36m_MergeOperation.__init__\u001b[0;34m(self, left, right, how, on, left_on, right_on, axis, left_index, right_index, sort, suffixes, indicator, validate)\u001b[0m\n\u001b[1;32m    733\u001b[0m (\n\u001b[1;32m    734\u001b[0m     \u001b[39mself\u001b[39m\u001b[39m.\u001b[39mleft_join_keys,\n\u001b[1;32m    735\u001b[0m     \u001b[39mself\u001b[39m\u001b[39m.\u001b[39mright_join_keys,\n\u001b[1;32m    736\u001b[0m     \u001b[39mself\u001b[39m\u001b[39m.\u001b[39mjoin_names,\n\u001b[1;32m    737\u001b[0m ) \u001b[39m=\u001b[39m \u001b[39mself\u001b[39m\u001b[39m.\u001b[39m_get_merge_keys()\n\u001b[1;32m    739\u001b[0m \u001b[39m# validate the merge keys dtypes. We may need to coerce\u001b[39;00m\n\u001b[1;32m    740\u001b[0m \u001b[39m# to avoid incompatible dtypes\u001b[39;00m\n\u001b[0;32m--> 741\u001b[0m \u001b[39mself\u001b[39;49m\u001b[39m.\u001b[39;49m_maybe_coerce_merge_keys()\n\u001b[1;32m    743\u001b[0m \u001b[39m# If argument passed to validate,\u001b[39;00m\n\u001b[1;32m    744\u001b[0m \u001b[39m# check if columns specified as unique\u001b[39;00m\n\u001b[1;32m    745\u001b[0m \u001b[39m# are in fact unique.\u001b[39;00m\n\u001b[1;32m    746\u001b[0m \u001b[39mif\u001b[39;00m validate \u001b[39mis\u001b[39;00m \u001b[39mnot\u001b[39;00m \u001b[39mNone\u001b[39;00m:\n",
      "File \u001b[0;32m~/miniforge3/envs/tf-M1/lib/python3.10/site-packages/pandas/core/reshape/merge.py:1405\u001b[0m, in \u001b[0;36m_MergeOperation._maybe_coerce_merge_keys\u001b[0;34m(self)\u001b[0m\n\u001b[1;32m   1403\u001b[0m \u001b[39m# datetimelikes must match exactly\u001b[39;00m\n\u001b[1;32m   1404\u001b[0m \u001b[39melif\u001b[39;00m needs_i8_conversion(lk\u001b[39m.\u001b[39mdtype) \u001b[39mand\u001b[39;00m \u001b[39mnot\u001b[39;00m needs_i8_conversion(rk\u001b[39m.\u001b[39mdtype):\n\u001b[0;32m-> 1405\u001b[0m     \u001b[39mraise\u001b[39;00m \u001b[39mValueError\u001b[39;00m(msg)\n\u001b[1;32m   1406\u001b[0m \u001b[39melif\u001b[39;00m \u001b[39mnot\u001b[39;00m needs_i8_conversion(lk\u001b[39m.\u001b[39mdtype) \u001b[39mand\u001b[39;00m needs_i8_conversion(rk\u001b[39m.\u001b[39mdtype):\n\u001b[1;32m   1407\u001b[0m     \u001b[39mraise\u001b[39;00m \u001b[39mValueError\u001b[39;00m(msg)\n",
      "\u001b[0;31mValueError\u001b[0m: You are trying to merge on datetime64[ns] and object columns. If you wish to proceed you should use pd.concat"
     ]
    }
   ],
   "source": [
    "final = pd.merge(endData, it['Close'], how='left', on=\"Date\" )\n",
    "fin =final.dropna()\n",
    "# mask_ = (fin['année'] == 2023)\n",
    "# #mask_ = ((fin['mois'] == 2) & (fin['year'] == 2022))\n",
    "# fin_ = fin.loc[mask_]\n",
    "fin_ = filtreAnnee(fin, 2023)\n",
    "fin_ = (fin_[[\"gasInStorage\",\"TTF=F\",\"BZ=F\",\"OCT23\",\"NOV23\",\"DEC23\",\"Date\"]])\n",
    "fin_ = fin_.set_index(\"Date\")\n",
    "print(fin_.corr())\n",
    "sns.heatmap(fin_.corr(),cmap='vlag', vmin=-1, vmax=1)"
   ]
  },
  {
   "cell_type": "code",
   "execution_count": null,
   "metadata": {},
   "outputs": [],
   "source": [
    "# On fait une copie du DF et on remet les index\n",
    "# cette copy est filtrée suivant l'année\n",
    "an = 2023\n",
    "fin_1 = filtreAnnee(fin,an).copy(deep=True)\n",
    "fin_2 = filtreAnnee(fin[['gasInStorage','Date','année']],an).copy(deep=True)\n",
    "fin_1 = fin_1.set_index(\"Date\")\n",
    "fin_2 = fin_2.set_index(\"Date\")\n",
    "# On normalise si besoin \n",
    "maxi = fin_1[\"gasInStorage\"].max()\n",
    "print('Stock maxi sur la période : ',maxi)\n",
    "maxi = 100.0 # si on ne souhaite pas normaliser\n",
    "# on normalise le stock (100%) et on nettoye ...\n",
    "fin_2[\"stock\"] = fin_2[\"gasInStorage\"] / maxi * 100.0\n",
    "# print(fin_1.head())\n",
    "fin_1['€/$'] = fin_1['€/$'] * 100.0\n",
    "fin_1 = fin_1.drop(['année','mois','gasDayStart','gasInStorage'], axis=1)\n",
    "fin_2 = fin_2.drop(['gasInStorage','année'],axis=1)\n",
    "# on Affiche le graphique\n",
    "fig, ax = plt.subplots(figsize=(12,6))\n",
    "sns.lineplot(data=fin_1, color='Blue')\n",
    "ax2 = plt.twinx()\n",
    "sns.lineplot(data=fin_2, ax=ax2 , color='red')"
   ]
  },
  {
   "cell_type": "code",
   "execution_count": null,
   "metadata": {},
   "outputs": [],
   "source": [
    "fin[0:16]"
   ]
  },
  {
   "cell_type": "code",
   "execution_count": null,
   "metadata": {},
   "outputs": [],
   "source": [
    "fin_ = fin[[\"gasInStorage\",\"TTF=F\",\"BZ=F\",\"OCT23\",\"NOV23\",\"DEC23\",\"Date\"]]\n",
    "fin_ = fin_.set_index('Date')\n",
    "sns.heatmap(fin_.corr(), vmin=-1, vmax=1, cmap='vlag')\n",
    "print(fin_.corr())"
   ]
  }
 ],
 "metadata": {
  "kernelspec": {
   "display_name": "base",
   "language": "python",
   "name": "python3"
  },
  "language_info": {
   "codemirror_mode": {
    "name": "ipython",
    "version": 3
   },
   "file_extension": ".py",
   "mimetype": "text/x-python",
   "name": "python",
   "nbconvert_exporter": "python",
   "pygments_lexer": "ipython3",
   "version": "3.10.12"
  },
  "orig_nbformat": 4
 },
 "nbformat": 4,
 "nbformat_minor": 2
}
